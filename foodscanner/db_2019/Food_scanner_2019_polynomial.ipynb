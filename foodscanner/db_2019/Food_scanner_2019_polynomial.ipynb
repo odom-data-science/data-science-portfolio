{
 "cells": [
  {
   "cell_type": "code",
   "execution_count": 12,
   "metadata": {},
   "outputs": [],
   "source": [
    "import warnings\n",
    "\n",
    "import numpy as np\n",
    "import pandas as pd\n",
    "import pylab as plot\n",
    "import seaborn as sns\n",
    "import missingno as msno\n",
    "import matplotlib.pyplot as plt\n",
    "import matplotlib.gridspec as gridspec\n",
    "from matplotlib.colors import ListedColormap\n",
    "from sklearn.model_selection import train_test_split\n",
    "from sklearn.preprocessing import PolynomialFeatures\n",
    "from sklearn.linear_model import LinearRegression\n",
    "from sklearn.ensemble import RandomForestRegressor\n",
    "from sklearn.cross_decomposition import PLSRegression\n",
    "from sklearn.multioutput import MultiOutputRegressor\n",
    "from sklearn.svm import  SVR\n",
    "from IPython.display import display\n",
    "\n",
    "from module_utils.scoreRegression import scoreClassif, scoreClassifier\n",
    "from module_utils.utils import head_shape, describe_plus, highlight_bests_metrics, train_test_df\n",
    "from module_utils.preprocess import msc, snv, savgol_smoothing, norml, extract_pipeline_preprocess_poly\n",
    "from module_utils.model_training import train_model, compute_losses_reg, training_models\n",
    "\n",
    "sns.set(font_scale=1.2, style=\"darkgrid\", palette=\"colorblind\", color_codes=True)\n",
    "params = {\"legend.fontsize\":15,\n",
    "          \"legend.handlelength\":2}\n",
    "plot.rcParams.update(params)\n",
    "warnings.filterwarnings('ignore')"
   ]
  },
  {
   "cell_type": "code",
   "execution_count": 13,
   "metadata": {},
   "outputs": [],
   "source": [
    "df = pd.read_csv('../All Data (human readable column names).csv', sep = ',')"
   ]
  },
  {
   "cell_type": "code",
   "execution_count": 14,
   "metadata": {},
   "outputs": [],
   "source": [
    "# drop useless columns\n",
    "drop_id = ['ID', 'Surface Scan Device ID', 'Juice Scan Device ID']\n",
    "df = df.drop(drop_id, axis=1)\n",
    "\n",
    "# targets columns\n",
    "target_variables = df.filter(regex=\"Brix|Antioxidants|Polyphenols\", axis=1).columns\n",
    "\n",
    "# Juice scans columns\n",
    "juice_col = df.filter(regex=\"Juice\", axis=1).columns\n",
    "juice_target = df.filter(regex=\"Juice|Antioxidants|Polyphenols|Brix\", axis=1).columns\n",
    "\n",
    "# Surface scans columns\n",
    "df.rename(columns={\"Surface Scan 386nm\":\"Surface Scan 385nm\"}, inplace=True)\n",
    "surface_col = df.loc[:, df.columns.str.startswith(\"Surface\")].columns\n",
    "surface_target = df.filter(regex=\"Surface|Antioxidants|Polyphenols|Brix\", axis=1).columns\n",
    "\n",
    "# Juice and surface scans columns\n",
    "surface_juice_col = surface_col.append(juice_col)\n",
    "surface_juice_target = surface_juice_col.append(target_variables)"
   ]
  },
  {
   "cell_type": "markdown",
   "metadata": {},
   "source": [
    "## Preprocessing and Polynomial Features\n",
    "The goal of data preprocessing is to eliminate or minimize wavelength variability.\n",
    "http://www.models.life.ku.dk/sites/default/files/preproNIR.pdf"
   ]
  },
  {
   "cell_type": "code",
   "execution_count": 15,
   "metadata": {},
   "outputs": [],
   "source": [
    "# init model objects\n",
    "lin_regression = LinearRegression()\n",
    "#pls = MultiOutputRegressor(PLSRegression(n_components=5))\n",
    "svr_rbf = MultiOutputRegressor(SVR(kernel='rbf', C=10, gamma='auto', epsilon=.1, coef0=1))\n",
    "rf_regressor = RandomForestRegressor(n_estimators=1000, random_state=0)\n",
    "models_list = [lin_regression, svr_rbf, rf_regressor]\n",
    "# create list of models used for training - for columns name\n",
    "models_name = ['Linear regression', 'SVR RBF', 'RF regressor']"
   ]
  },
  {
   "cell_type": "markdown",
   "metadata": {},
   "source": [
    "- #### Columns: Surface Scans\n",
    "- #### Type: Kale\n",
    "- #### Target: Brix"
   ]
  },
  {
   "cell_type": "markdown",
   "metadata": {},
   "source": [
    "### Multiplicative Scatter Correction\n",
    "https://nirpyresearch.com/two-scatter-correction-techniques-nir-spectroscopy-python/"
   ]
  },
  {
   "cell_type": "code",
   "execution_count": 16,
   "metadata": {},
   "outputs": [],
   "source": [
    "x, y = extract_pipeline_preprocess_poly(df=df[df[\"Type\"]==\"kale\"][surface_target],\n",
    "                     target=target_variables, preprocess=msc, degree=2)\n",
    "x_train, x_test, y_train, y_test = train_test_split(x, y, test_size=0.30, random_state=42)"
   ]
  },
  {
   "cell_type": "code",
   "execution_count": 17,
   "metadata": {},
   "outputs": [
    {
     "name": "stdout",
     "output_type": "stream",
     "text": [
      "x_train (170, 66)\n",
      "x_test (73, 66)\n",
      "y_train (170, 3)\n",
      "y_test (73, 3)\n"
     ]
    }
   ],
   "source": [
    "print(\"x_train\", x_train.shape)\n",
    "print(\"x_test\", x_test.shape)\n",
    "print(\"y_train\", y_train.shape)\n",
    "print(\"y_test\", y_test.shape)"
   ]
  },
  {
   "cell_type": "code",
   "execution_count": 18,
   "metadata": {},
   "outputs": [
    {
     "data": {
      "text/html": [
       "<style  type=\"text/css\" >\n",
       "#T_2d337b88_1a94_11eb_a895_784f438fbef9row0_col2,#T_2d337b88_1a94_11eb_a895_784f438fbef9row1_col2,#T_2d337b88_1a94_11eb_a895_784f438fbef9row2_col2,#T_2d337b88_1a94_11eb_a895_784f438fbef9row3_col2,#T_2d337b88_1a94_11eb_a895_784f438fbef9row4_col1{\n",
       "            background-color:  darkorange;\n",
       "        }</style><table id=\"T_2d337b88_1a94_11eb_a895_784f438fbef9\" ><thead>    <tr>        <th class=\"blank level0\" ></th>        <th class=\"col_heading level0 col0\" >Linear regression</th>        <th class=\"col_heading level0 col1\" >SVR RBF</th>        <th class=\"col_heading level0 col2\" >RF regressor</th>    </tr></thead><tbody>\n",
       "                <tr>\n",
       "                        <th id=\"T_2d337b88_1a94_11eb_a895_784f438fbef9level0_row0\" class=\"row_heading level0 row0\" >MAE</th>\n",
       "                        <td id=\"T_2d337b88_1a94_11eb_a895_784f438fbef9row0_col0\" class=\"data row0 col0\" >3264.579402</td>\n",
       "                        <td id=\"T_2d337b88_1a94_11eb_a895_784f438fbef9row0_col1\" class=\"data row0 col1\" >1902.613903</td>\n",
       "                        <td id=\"T_2d337b88_1a94_11eb_a895_784f438fbef9row0_col2\" class=\"data row0 col2\" >710.120628</td>\n",
       "            </tr>\n",
       "            <tr>\n",
       "                        <th id=\"T_2d337b88_1a94_11eb_a895_784f438fbef9level0_row1\" class=\"row_heading level0 row1\" >MSE</th>\n",
       "                        <td id=\"T_2d337b88_1a94_11eb_a895_784f438fbef9row1_col0\" class=\"data row1 col0\" >53772451.717962</td>\n",
       "                        <td id=\"T_2d337b88_1a94_11eb_a895_784f438fbef9row1_col1\" class=\"data row1 col1\" >17174578.098891</td>\n",
       "                        <td id=\"T_2d337b88_1a94_11eb_a895_784f438fbef9row1_col2\" class=\"data row1 col2\" >2288785.604326</td>\n",
       "            </tr>\n",
       "            <tr>\n",
       "                        <th id=\"T_2d337b88_1a94_11eb_a895_784f438fbef9level0_row2\" class=\"row_heading level0 row2\" >R2</th>\n",
       "                        <td id=\"T_2d337b88_1a94_11eb_a895_784f438fbef9row2_col0\" class=\"data row2 col0\" >-0.688690</td>\n",
       "                        <td id=\"T_2d337b88_1a94_11eb_a895_784f438fbef9row2_col1\" class=\"data row2 col1\" >0.325630</td>\n",
       "                        <td id=\"T_2d337b88_1a94_11eb_a895_784f438fbef9row2_col2\" class=\"data row2 col2\" >0.874133</td>\n",
       "            </tr>\n",
       "            <tr>\n",
       "                        <th id=\"T_2d337b88_1a94_11eb_a895_784f438fbef9level0_row3\" class=\"row_heading level0 row3\" >RMSE</th>\n",
       "                        <td id=\"T_2d337b88_1a94_11eb_a895_784f438fbef9row3_col0\" class=\"data row3 col0\" >7332.970184</td>\n",
       "                        <td id=\"T_2d337b88_1a94_11eb_a895_784f438fbef9row3_col1\" class=\"data row3 col1\" >4144.222255</td>\n",
       "                        <td id=\"T_2d337b88_1a94_11eb_a895_784f438fbef9row3_col2\" class=\"data row3 col2\" >1512.873294</td>\n",
       "            </tr>\n",
       "            <tr>\n",
       "                        <th id=\"T_2d337b88_1a94_11eb_a895_784f438fbef9level0_row4\" class=\"row_heading level0 row4\" >Score Classifier</th>\n",
       "                        <td id=\"T_2d337b88_1a94_11eb_a895_784f438fbef9row4_col0\" class=\"data row4 col0\" >0.607843</td>\n",
       "                        <td id=\"T_2d337b88_1a94_11eb_a895_784f438fbef9row4_col1\" class=\"data row4 col1\" >0.998039</td>\n",
       "                        <td id=\"T_2d337b88_1a94_11eb_a895_784f438fbef9row4_col2\" class=\"data row4 col2\" >0.935294</td>\n",
       "            </tr>\n",
       "    </tbody></table>"
      ],
      "text/plain": [
       "<pandas.io.formats.style.Styler at 0x7fd2645dc8d0>"
      ]
     },
     "execution_count": 18,
     "metadata": {},
     "output_type": "execute_result"
    }
   ],
   "source": [
    "train_df = training_models(x=x_train, y=y_train, models=models_list, col_name=models_name)\n",
    "test_df = training_models(x=x_test, y=y_test, models=models_list, col_name=models_name)\n",
    "highlight_bests_metrics(train_df)"
   ]
  },
  {
   "cell_type": "code",
   "execution_count": 19,
   "metadata": {},
   "outputs": [
    {
     "data": {
      "text/html": [
       "<style  type=\"text/css\" >\n",
       "#T_2d3823a4_1a94_11eb_a895_784f438fbef9row0_col0,#T_2d3823a4_1a94_11eb_a895_784f438fbef9row1_col0,#T_2d3823a4_1a94_11eb_a895_784f438fbef9row2_col0,#T_2d3823a4_1a94_11eb_a895_784f438fbef9row3_col0,#T_2d3823a4_1a94_11eb_a895_784f438fbef9row4_col0{\n",
       "            background-color:  darkorange;\n",
       "        }</style><table id=\"T_2d3823a4_1a94_11eb_a895_784f438fbef9\" ><thead>    <tr>        <th class=\"blank level0\" ></th>        <th class=\"col_heading level0 col0\" >Train</th>        <th class=\"col_heading level0 col1\" >Test</th>    </tr>    <tr>        <th class=\"index_name level0\" >RF regressor</th>        <th class=\"blank\" ></th>        <th class=\"blank\" ></th>    </tr></thead><tbody>\n",
       "                <tr>\n",
       "                        <th id=\"T_2d3823a4_1a94_11eb_a895_784f438fbef9level0_row0\" class=\"row_heading level0 row0\" >MAE</th>\n",
       "                        <td id=\"T_2d3823a4_1a94_11eb_a895_784f438fbef9row0_col0\" class=\"data row0 col0\" >710.120628</td>\n",
       "                        <td id=\"T_2d3823a4_1a94_11eb_a895_784f438fbef9row0_col1\" class=\"data row0 col1\" >720.620322</td>\n",
       "            </tr>\n",
       "            <tr>\n",
       "                        <th id=\"T_2d3823a4_1a94_11eb_a895_784f438fbef9level0_row1\" class=\"row_heading level0 row1\" >MSE</th>\n",
       "                        <td id=\"T_2d3823a4_1a94_11eb_a895_784f438fbef9row1_col0\" class=\"data row1 col0\" >2288785.604326</td>\n",
       "                        <td id=\"T_2d3823a4_1a94_11eb_a895_784f438fbef9row1_col1\" class=\"data row1 col1\" >2595373.560109</td>\n",
       "            </tr>\n",
       "            <tr>\n",
       "                        <th id=\"T_2d3823a4_1a94_11eb_a895_784f438fbef9level0_row2\" class=\"row_heading level0 row2\" >R2</th>\n",
       "                        <td id=\"T_2d3823a4_1a94_11eb_a895_784f438fbef9row2_col0\" class=\"data row2 col0\" >0.874133</td>\n",
       "                        <td id=\"T_2d3823a4_1a94_11eb_a895_784f438fbef9row2_col1\" class=\"data row2 col1\" >0.864623</td>\n",
       "            </tr>\n",
       "            <tr>\n",
       "                        <th id=\"T_2d3823a4_1a94_11eb_a895_784f438fbef9level0_row3\" class=\"row_heading level0 row3\" >RMSE</th>\n",
       "                        <td id=\"T_2d3823a4_1a94_11eb_a895_784f438fbef9row3_col0\" class=\"data row3 col0\" >1512.873294</td>\n",
       "                        <td id=\"T_2d3823a4_1a94_11eb_a895_784f438fbef9row3_col1\" class=\"data row3 col1\" >1611.016313</td>\n",
       "            </tr>\n",
       "            <tr>\n",
       "                        <th id=\"T_2d3823a4_1a94_11eb_a895_784f438fbef9level0_row4\" class=\"row_heading level0 row4\" >Score Classifier</th>\n",
       "                        <td id=\"T_2d3823a4_1a94_11eb_a895_784f438fbef9row4_col0\" class=\"data row4 col0\" >0.935294</td>\n",
       "                        <td id=\"T_2d3823a4_1a94_11eb_a895_784f438fbef9row4_col1\" class=\"data row4 col1\" >0.894977</td>\n",
       "            </tr>\n",
       "    </tbody></table>"
      ],
      "text/plain": [
       "<pandas.io.formats.style.Styler at 0x7fd2644f0e50>"
      ]
     },
     "execution_count": 19,
     "metadata": {},
     "output_type": "execute_result"
    }
   ],
   "source": [
    "train_test_df(df_1=train_df, df_2=test_df, column='RF regressor')"
   ]
  },
  {
   "cell_type": "markdown",
   "metadata": {},
   "source": [
    "### Standard Normal Variate\n",
    "https://nirpyresearch.com/two-scatter-correction-techniques-nir-spectroscopy-python/"
   ]
  },
  {
   "cell_type": "code",
   "execution_count": 20,
   "metadata": {},
   "outputs": [],
   "source": [
    "x, y = extract_pipeline_preprocess_poly(df=df[df[\"Type\"]==\"kale\"][surface_target],\n",
    "                     target=target_variables, preprocess=snv, degree=2)"
   ]
  },
  {
   "cell_type": "code",
   "execution_count": 21,
   "metadata": {},
   "outputs": [],
   "source": [
    "x_train, x_test, y_train, y_test = train_test_split(x, y, test_size=0.30, random_state=42)"
   ]
  },
  {
   "cell_type": "code",
   "execution_count": 22,
   "metadata": {},
   "outputs": [
    {
     "data": {
      "text/html": [
       "<style  type=\"text/css\" >\n",
       "#T_323360e4_1a94_11eb_a895_784f438fbef9row0_col2,#T_323360e4_1a94_11eb_a895_784f438fbef9row1_col2,#T_323360e4_1a94_11eb_a895_784f438fbef9row2_col2,#T_323360e4_1a94_11eb_a895_784f438fbef9row3_col2,#T_323360e4_1a94_11eb_a895_784f438fbef9row4_col2{\n",
       "            background-color:  darkorange;\n",
       "        }</style><table id=\"T_323360e4_1a94_11eb_a895_784f438fbef9\" ><thead>    <tr>        <th class=\"blank level0\" ></th>        <th class=\"col_heading level0 col0\" >Linear regression</th>        <th class=\"col_heading level0 col1\" >SVR RBF</th>        <th class=\"col_heading level0 col2\" >RF regressor</th>    </tr></thead><tbody>\n",
       "                <tr>\n",
       "                        <th id=\"T_323360e4_1a94_11eb_a895_784f438fbef9level0_row0\" class=\"row_heading level0 row0\" >MAE</th>\n",
       "                        <td id=\"T_323360e4_1a94_11eb_a895_784f438fbef9row0_col0\" class=\"data row0 col0\" >2459.643725</td>\n",
       "                        <td id=\"T_323360e4_1a94_11eb_a895_784f438fbef9row0_col1\" class=\"data row0 col1\" >1906.780463</td>\n",
       "                        <td id=\"T_323360e4_1a94_11eb_a895_784f438fbef9row0_col2\" class=\"data row0 col2\" >701.531636</td>\n",
       "            </tr>\n",
       "            <tr>\n",
       "                        <th id=\"T_323360e4_1a94_11eb_a895_784f438fbef9level0_row1\" class=\"row_heading level0 row1\" >MSE</th>\n",
       "                        <td id=\"T_323360e4_1a94_11eb_a895_784f438fbef9row1_col0\" class=\"data row1 col0\" >29373094.396983</td>\n",
       "                        <td id=\"T_323360e4_1a94_11eb_a895_784f438fbef9row1_col1\" class=\"data row1 col1\" >17200455.760614</td>\n",
       "                        <td id=\"T_323360e4_1a94_11eb_a895_784f438fbef9row1_col2\" class=\"data row1 col2\" >2260612.693568</td>\n",
       "            </tr>\n",
       "            <tr>\n",
       "                        <th id=\"T_323360e4_1a94_11eb_a895_784f438fbef9level0_row2\" class=\"row_heading level0 row2\" >R2</th>\n",
       "                        <td id=\"T_323360e4_1a94_11eb_a895_784f438fbef9row2_col0\" class=\"data row2 col0\" >-0.454512</td>\n",
       "                        <td id=\"T_323360e4_1a94_11eb_a895_784f438fbef9row2_col1\" class=\"data row2 col1\" >0.019168</td>\n",
       "                        <td id=\"T_323360e4_1a94_11eb_a895_784f438fbef9row2_col2\" class=\"data row2 col2\" >0.875334</td>\n",
       "            </tr>\n",
       "            <tr>\n",
       "                        <th id=\"T_323360e4_1a94_11eb_a895_784f438fbef9level0_row3\" class=\"row_heading level0 row3\" >RMSE</th>\n",
       "                        <td id=\"T_323360e4_1a94_11eb_a895_784f438fbef9row3_col0\" class=\"data row3 col0\" >5419.695046</td>\n",
       "                        <td id=\"T_323360e4_1a94_11eb_a895_784f438fbef9row3_col1\" class=\"data row3 col1\" >4147.343217</td>\n",
       "                        <td id=\"T_323360e4_1a94_11eb_a895_784f438fbef9row3_col2\" class=\"data row3 col2\" >1503.533403</td>\n",
       "            </tr>\n",
       "            <tr>\n",
       "                        <th id=\"T_323360e4_1a94_11eb_a895_784f438fbef9level0_row4\" class=\"row_heading level0 row4\" >Score Classifier</th>\n",
       "                        <td id=\"T_323360e4_1a94_11eb_a895_784f438fbef9row4_col0\" class=\"data row4 col0\" >0.605882</td>\n",
       "                        <td id=\"T_323360e4_1a94_11eb_a895_784f438fbef9row4_col1\" class=\"data row4 col1\" >0.596078</td>\n",
       "                        <td id=\"T_323360e4_1a94_11eb_a895_784f438fbef9row4_col2\" class=\"data row4 col2\" >0.935294</td>\n",
       "            </tr>\n",
       "    </tbody></table>"
      ],
      "text/plain": [
       "<pandas.io.formats.style.Styler at 0x7fd264498190>"
      ]
     },
     "execution_count": 22,
     "metadata": {},
     "output_type": "execute_result"
    }
   ],
   "source": [
    "train_df = training_models(x_train, y_train, models_list, models_name)\n",
    "test_df = training_models(x_test, y_test, models_list, models_name)\n",
    "highlight_bests_metrics(train_df)"
   ]
  },
  {
   "cell_type": "code",
   "execution_count": 23,
   "metadata": {},
   "outputs": [
    {
     "data": {
      "text/html": [
       "<style  type=\"text/css\" >\n",
       "#T_3238c48a_1a94_11eb_a895_784f438fbef9row0_col1,#T_3238c48a_1a94_11eb_a895_784f438fbef9row1_col0,#T_3238c48a_1a94_11eb_a895_784f438fbef9row2_col0,#T_3238c48a_1a94_11eb_a895_784f438fbef9row3_col0,#T_3238c48a_1a94_11eb_a895_784f438fbef9row4_col0{\n",
       "            background-color:  darkorange;\n",
       "        }</style><table id=\"T_3238c48a_1a94_11eb_a895_784f438fbef9\" ><thead>    <tr>        <th class=\"blank level0\" ></th>        <th class=\"col_heading level0 col0\" >Train</th>        <th class=\"col_heading level0 col1\" >Test</th>    </tr>    <tr>        <th class=\"index_name level0\" >RF regressor</th>        <th class=\"blank\" ></th>        <th class=\"blank\" ></th>    </tr></thead><tbody>\n",
       "                <tr>\n",
       "                        <th id=\"T_3238c48a_1a94_11eb_a895_784f438fbef9level0_row0\" class=\"row_heading level0 row0\" >MAE</th>\n",
       "                        <td id=\"T_3238c48a_1a94_11eb_a895_784f438fbef9row0_col0\" class=\"data row0 col0\" >701.531636</td>\n",
       "                        <td id=\"T_3238c48a_1a94_11eb_a895_784f438fbef9row0_col1\" class=\"data row0 col1\" >700.688861</td>\n",
       "            </tr>\n",
       "            <tr>\n",
       "                        <th id=\"T_3238c48a_1a94_11eb_a895_784f438fbef9level0_row1\" class=\"row_heading level0 row1\" >MSE</th>\n",
       "                        <td id=\"T_3238c48a_1a94_11eb_a895_784f438fbef9row1_col0\" class=\"data row1 col0\" >2260612.693568</td>\n",
       "                        <td id=\"T_3238c48a_1a94_11eb_a895_784f438fbef9row1_col1\" class=\"data row1 col1\" >2505675.054412</td>\n",
       "            </tr>\n",
       "            <tr>\n",
       "                        <th id=\"T_3238c48a_1a94_11eb_a895_784f438fbef9level0_row2\" class=\"row_heading level0 row2\" >R2</th>\n",
       "                        <td id=\"T_3238c48a_1a94_11eb_a895_784f438fbef9row2_col0\" class=\"data row2 col0\" >0.875334</td>\n",
       "                        <td id=\"T_3238c48a_1a94_11eb_a895_784f438fbef9row2_col1\" class=\"data row2 col1\" >0.865635</td>\n",
       "            </tr>\n",
       "            <tr>\n",
       "                        <th id=\"T_3238c48a_1a94_11eb_a895_784f438fbef9level0_row3\" class=\"row_heading level0 row3\" >RMSE</th>\n",
       "                        <td id=\"T_3238c48a_1a94_11eb_a895_784f438fbef9row3_col0\" class=\"data row3 col0\" >1503.533403</td>\n",
       "                        <td id=\"T_3238c48a_1a94_11eb_a895_784f438fbef9row3_col1\" class=\"data row3 col1\" >1582.932423</td>\n",
       "            </tr>\n",
       "            <tr>\n",
       "                        <th id=\"T_3238c48a_1a94_11eb_a895_784f438fbef9level0_row4\" class=\"row_heading level0 row4\" >Score Classifier</th>\n",
       "                        <td id=\"T_3238c48a_1a94_11eb_a895_784f438fbef9row4_col0\" class=\"data row4 col0\" >0.935294</td>\n",
       "                        <td id=\"T_3238c48a_1a94_11eb_a895_784f438fbef9row4_col1\" class=\"data row4 col1\" >0.894977</td>\n",
       "            </tr>\n",
       "    </tbody></table>"
      ],
      "text/plain": [
       "<pandas.io.formats.style.Styler at 0x7fd265327250>"
      ]
     },
     "execution_count": 23,
     "metadata": {},
     "output_type": "execute_result"
    }
   ],
   "source": [
    "train_test_df(df_1=train_df, df_2=test_df, column='RF regressor')"
   ]
  },
  {
   "cell_type": "markdown",
   "metadata": {},
   "source": [
    "### Savitsky-Golay\n",
    "https://nirpyresearch.com/savitzky-golay-smoothing-method/"
   ]
  },
  {
   "cell_type": "code",
   "execution_count": 24,
   "metadata": {},
   "outputs": [],
   "source": [
    "x, y = extract_pipeline_preprocess_poly(df=df[df[\"Type\"]==\"kale\"][surface_target],\n",
    "                     target=target_variables, preprocess=savgol_smoothing, degree=2)"
   ]
  },
  {
   "cell_type": "code",
   "execution_count": 25,
   "metadata": {},
   "outputs": [],
   "source": [
    "x_train, x_test, y_train, y_test = train_test_split(x, y, test_size=0.30, random_state=42)"
   ]
  },
  {
   "cell_type": "code",
   "execution_count": 26,
   "metadata": {},
   "outputs": [
    {
     "data": {
      "text/html": [
       "<style  type=\"text/css\" >\n",
       "#T_3763858a_1a94_11eb_a895_784f438fbef9row0_col2,#T_3763858a_1a94_11eb_a895_784f438fbef9row1_col2,#T_3763858a_1a94_11eb_a895_784f438fbef9row2_col2,#T_3763858a_1a94_11eb_a895_784f438fbef9row3_col2,#T_3763858a_1a94_11eb_a895_784f438fbef9row4_col1{\n",
       "            background-color:  darkorange;\n",
       "        }</style><table id=\"T_3763858a_1a94_11eb_a895_784f438fbef9\" ><thead>    <tr>        <th class=\"blank level0\" ></th>        <th class=\"col_heading level0 col0\" >Linear regression</th>        <th class=\"col_heading level0 col1\" >SVR RBF</th>        <th class=\"col_heading level0 col2\" >RF regressor</th>    </tr></thead><tbody>\n",
       "                <tr>\n",
       "                        <th id=\"T_3763858a_1a94_11eb_a895_784f438fbef9level0_row0\" class=\"row_heading level0 row0\" >MAE</th>\n",
       "                        <td id=\"T_3763858a_1a94_11eb_a895_784f438fbef9row0_col0\" class=\"data row0 col0\" >2383.634858</td>\n",
       "                        <td id=\"T_3763858a_1a94_11eb_a895_784f438fbef9row0_col1\" class=\"data row0 col1\" >1902.613903</td>\n",
       "                        <td id=\"T_3763858a_1a94_11eb_a895_784f438fbef9row0_col2\" class=\"data row0 col2\" >701.352438</td>\n",
       "            </tr>\n",
       "            <tr>\n",
       "                        <th id=\"T_3763858a_1a94_11eb_a895_784f438fbef9level0_row1\" class=\"row_heading level0 row1\" >MSE</th>\n",
       "                        <td id=\"T_3763858a_1a94_11eb_a895_784f438fbef9row1_col0\" class=\"data row1 col0\" >26889453.213933</td>\n",
       "                        <td id=\"T_3763858a_1a94_11eb_a895_784f438fbef9row1_col1\" class=\"data row1 col1\" >17174578.098891</td>\n",
       "                        <td id=\"T_3763858a_1a94_11eb_a895_784f438fbef9row1_col2\" class=\"data row1 col2\" >2266199.714985</td>\n",
       "            </tr>\n",
       "            <tr>\n",
       "                        <th id=\"T_3763858a_1a94_11eb_a895_784f438fbef9level0_row2\" class=\"row_heading level0 row2\" >R2</th>\n",
       "                        <td id=\"T_3763858a_1a94_11eb_a895_784f438fbef9row2_col0\" class=\"data row2 col0\" >-0.205744</td>\n",
       "                        <td id=\"T_3763858a_1a94_11eb_a895_784f438fbef9row2_col1\" class=\"data row2 col1\" >0.325630</td>\n",
       "                        <td id=\"T_3763858a_1a94_11eb_a895_784f438fbef9row2_col2\" class=\"data row2 col2\" >0.875480</td>\n",
       "            </tr>\n",
       "            <tr>\n",
       "                        <th id=\"T_3763858a_1a94_11eb_a895_784f438fbef9level0_row3\" class=\"row_heading level0 row3\" >RMSE</th>\n",
       "                        <td id=\"T_3763858a_1a94_11eb_a895_784f438fbef9row3_col0\" class=\"data row3 col0\" >5185.504143</td>\n",
       "                        <td id=\"T_3763858a_1a94_11eb_a895_784f438fbef9row3_col1\" class=\"data row3 col1\" >4144.222255</td>\n",
       "                        <td id=\"T_3763858a_1a94_11eb_a895_784f438fbef9row3_col2\" class=\"data row3 col2\" >1505.390220</td>\n",
       "            </tr>\n",
       "            <tr>\n",
       "                        <th id=\"T_3763858a_1a94_11eb_a895_784f438fbef9level0_row4\" class=\"row_heading level0 row4\" >Score Classifier</th>\n",
       "                        <td id=\"T_3763858a_1a94_11eb_a895_784f438fbef9row4_col0\" class=\"data row4 col0\" >0.654902</td>\n",
       "                        <td id=\"T_3763858a_1a94_11eb_a895_784f438fbef9row4_col1\" class=\"data row4 col1\" >0.998039</td>\n",
       "                        <td id=\"T_3763858a_1a94_11eb_a895_784f438fbef9row4_col2\" class=\"data row4 col2\" >0.947059</td>\n",
       "            </tr>\n",
       "    </tbody></table>"
      ],
      "text/plain": [
       "<pandas.io.formats.style.Styler at 0x7fd265329ad0>"
      ]
     },
     "execution_count": 26,
     "metadata": {},
     "output_type": "execute_result"
    }
   ],
   "source": [
    "train_df = training_models(x_train, y_train, models_list, models_name)\n",
    "test_df = training_models(x_test, y_test, models_list, models_name)\n",
    "highlight_bests_metrics(train_df)"
   ]
  },
  {
   "cell_type": "code",
   "execution_count": 27,
   "metadata": {},
   "outputs": [
    {
     "data": {
      "text/html": [
       "<style  type=\"text/css\" >\n",
       "#T_3768d814_1a94_11eb_a895_784f438fbef9row0_col0,#T_3768d814_1a94_11eb_a895_784f438fbef9row1_col0,#T_3768d814_1a94_11eb_a895_784f438fbef9row2_col0,#T_3768d814_1a94_11eb_a895_784f438fbef9row3_col0,#T_3768d814_1a94_11eb_a895_784f438fbef9row4_col0{\n",
       "            background-color:  darkorange;\n",
       "        }</style><table id=\"T_3768d814_1a94_11eb_a895_784f438fbef9\" ><thead>    <tr>        <th class=\"blank level0\" ></th>        <th class=\"col_heading level0 col0\" >Train</th>        <th class=\"col_heading level0 col1\" >Test</th>    </tr>    <tr>        <th class=\"index_name level0\" >SVR RBF</th>        <th class=\"blank\" ></th>        <th class=\"blank\" ></th>    </tr></thead><tbody>\n",
       "                <tr>\n",
       "                        <th id=\"T_3768d814_1a94_11eb_a895_784f438fbef9level0_row0\" class=\"row_heading level0 row0\" >MAE</th>\n",
       "                        <td id=\"T_3768d814_1a94_11eb_a895_784f438fbef9row0_col0\" class=\"data row0 col0\" >1902.613903</td>\n",
       "                        <td id=\"T_3768d814_1a94_11eb_a895_784f438fbef9row0_col1\" class=\"data row0 col1\" >1951.500600</td>\n",
       "            </tr>\n",
       "            <tr>\n",
       "                        <th id=\"T_3768d814_1a94_11eb_a895_784f438fbef9level0_row1\" class=\"row_heading level0 row1\" >MSE</th>\n",
       "                        <td id=\"T_3768d814_1a94_11eb_a895_784f438fbef9row1_col0\" class=\"data row1 col0\" >17174578.098891</td>\n",
       "                        <td id=\"T_3768d814_1a94_11eb_a895_784f438fbef9row1_col1\" class=\"data row1 col1\" >20006936.109890</td>\n",
       "            </tr>\n",
       "            <tr>\n",
       "                        <th id=\"T_3768d814_1a94_11eb_a895_784f438fbef9level0_row2\" class=\"row_heading level0 row2\" >R2</th>\n",
       "                        <td id=\"T_3768d814_1a94_11eb_a895_784f438fbef9row2_col0\" class=\"data row2 col0\" >0.325630</td>\n",
       "                        <td id=\"T_3768d814_1a94_11eb_a895_784f438fbef9row2_col1\" class=\"data row2 col1\" >0.284951</td>\n",
       "            </tr>\n",
       "            <tr>\n",
       "                        <th id=\"T_3768d814_1a94_11eb_a895_784f438fbef9level0_row3\" class=\"row_heading level0 row3\" >RMSE</th>\n",
       "                        <td id=\"T_3768d814_1a94_11eb_a895_784f438fbef9row3_col0\" class=\"data row3 col0\" >4144.222255</td>\n",
       "                        <td id=\"T_3768d814_1a94_11eb_a895_784f438fbef9row3_col1\" class=\"data row3 col1\" >4472.911368</td>\n",
       "            </tr>\n",
       "            <tr>\n",
       "                        <th id=\"T_3768d814_1a94_11eb_a895_784f438fbef9level0_row4\" class=\"row_heading level0 row4\" >Score Classifier</th>\n",
       "                        <td id=\"T_3768d814_1a94_11eb_a895_784f438fbef9row4_col0\" class=\"data row4 col0\" >0.998039</td>\n",
       "                        <td id=\"T_3768d814_1a94_11eb_a895_784f438fbef9row4_col1\" class=\"data row4 col1\" >0.995434</td>\n",
       "            </tr>\n",
       "    </tbody></table>"
      ],
      "text/plain": [
       "<pandas.io.formats.style.Styler at 0x7fd26447d450>"
      ]
     },
     "execution_count": 27,
     "metadata": {},
     "output_type": "execute_result"
    }
   ],
   "source": [
    "train_test_df(df_1=train_df, df_2=test_df, column='SVR RBF')"
   ]
  },
  {
   "cell_type": "markdown",
   "metadata": {},
   "source": [
    "### Spectral normalisation"
   ]
  },
  {
   "cell_type": "code",
   "execution_count": 28,
   "metadata": {},
   "outputs": [],
   "source": [
    "x, y = extract_pipeline_preprocess_poly(df=df[df[\"Type\"]==\"kale\"][surface_target],\n",
    "                     target=target_variables, preprocess=norml, degree=2)"
   ]
  },
  {
   "cell_type": "code",
   "execution_count": 29,
   "metadata": {},
   "outputs": [],
   "source": [
    "x_train, x_test, y_train, y_test = train_test_split(x, y, test_size=0.30, random_state=42)"
   ]
  },
  {
   "cell_type": "code",
   "execution_count": 30,
   "metadata": {},
   "outputs": [
    {
     "data": {
      "text/html": [
       "<style  type=\"text/css\" >\n",
       "#T_3c65c520_1a94_11eb_a895_784f438fbef9row0_col2,#T_3c65c520_1a94_11eb_a895_784f438fbef9row1_col2,#T_3c65c520_1a94_11eb_a895_784f438fbef9row2_col2,#T_3c65c520_1a94_11eb_a895_784f438fbef9row3_col2,#T_3c65c520_1a94_11eb_a895_784f438fbef9row4_col2{\n",
       "            background-color:  darkorange;\n",
       "        }</style><table id=\"T_3c65c520_1a94_11eb_a895_784f438fbef9\" ><thead>    <tr>        <th class=\"blank level0\" ></th>        <th class=\"col_heading level0 col0\" >Linear regression</th>        <th class=\"col_heading level0 col1\" >SVR RBF</th>        <th class=\"col_heading level0 col2\" >RF regressor</th>    </tr></thead><tbody>\n",
       "                <tr>\n",
       "                        <th id=\"T_3c65c520_1a94_11eb_a895_784f438fbef9level0_row0\" class=\"row_heading level0 row0\" >MAE</th>\n",
       "                        <td id=\"T_3c65c520_1a94_11eb_a895_784f438fbef9row0_col0\" class=\"data row0 col0\" >1968.003098</td>\n",
       "                        <td id=\"T_3c65c520_1a94_11eb_a895_784f438fbef9row0_col1\" class=\"data row0 col1\" >1909.727434</td>\n",
       "                        <td id=\"T_3c65c520_1a94_11eb_a895_784f438fbef9row0_col2\" class=\"data row0 col2\" >672.784496</td>\n",
       "            </tr>\n",
       "            <tr>\n",
       "                        <th id=\"T_3c65c520_1a94_11eb_a895_784f438fbef9level0_row1\" class=\"row_heading level0 row1\" >MSE</th>\n",
       "                        <td id=\"T_3c65c520_1a94_11eb_a895_784f438fbef9row1_col0\" class=\"data row1 col0\" >18320908.514009</td>\n",
       "                        <td id=\"T_3c65c520_1a94_11eb_a895_784f438fbef9row1_col1\" class=\"data row1 col1\" >17212282.156921</td>\n",
       "                        <td id=\"T_3c65c520_1a94_11eb_a895_784f438fbef9row1_col2\" class=\"data row1 col2\" >2074370.878853</td>\n",
       "            </tr>\n",
       "            <tr>\n",
       "                        <th id=\"T_3c65c520_1a94_11eb_a895_784f438fbef9level0_row2\" class=\"row_heading level0 row2\" >R2</th>\n",
       "                        <td id=\"T_3c65c520_1a94_11eb_a895_784f438fbef9row2_col0\" class=\"data row2 col0\" >0.112733</td>\n",
       "                        <td id=\"T_3c65c520_1a94_11eb_a895_784f438fbef9row2_col1\" class=\"data row2 col1\" >-0.012586</td>\n",
       "                        <td id=\"T_3c65c520_1a94_11eb_a895_784f438fbef9row2_col2\" class=\"data row2 col2\" >0.879276</td>\n",
       "            </tr>\n",
       "            <tr>\n",
       "                        <th id=\"T_3c65c520_1a94_11eb_a895_784f438fbef9level0_row3\" class=\"row_heading level0 row3\" >RMSE</th>\n",
       "                        <td id=\"T_3c65c520_1a94_11eb_a895_784f438fbef9row3_col0\" class=\"data row3 col0\" >4280.293041</td>\n",
       "                        <td id=\"T_3c65c520_1a94_11eb_a895_784f438fbef9row3_col1\" class=\"data row3 col1\" >4148.768752</td>\n",
       "                        <td id=\"T_3c65c520_1a94_11eb_a895_784f438fbef9row3_col2\" class=\"data row3 col2\" >1440.267641</td>\n",
       "            </tr>\n",
       "            <tr>\n",
       "                        <th id=\"T_3c65c520_1a94_11eb_a895_784f438fbef9level0_row4\" class=\"row_heading level0 row4\" >Score Classifier</th>\n",
       "                        <td id=\"T_3c65c520_1a94_11eb_a895_784f438fbef9row4_col0\" class=\"data row4 col0\" >0.680392</td>\n",
       "                        <td id=\"T_3c65c520_1a94_11eb_a895_784f438fbef9row4_col1\" class=\"data row4 col1\" >0.576471</td>\n",
       "                        <td id=\"T_3c65c520_1a94_11eb_a895_784f438fbef9row4_col2\" class=\"data row4 col2\" >0.935294</td>\n",
       "            </tr>\n",
       "    </tbody></table>"
      ],
      "text/plain": [
       "<pandas.io.formats.style.Styler at 0x7fd26447d1d0>"
      ]
     },
     "execution_count": 30,
     "metadata": {},
     "output_type": "execute_result"
    }
   ],
   "source": [
    "train_df = training_models(x_train, y_train, models_list, models_name)\n",
    "test_df = training_models(x_test, y_test, models_list, models_name)\n",
    "highlight_bests_metrics(train_df)"
   ]
  },
  {
   "cell_type": "code",
   "execution_count": 31,
   "metadata": {},
   "outputs": [
    {
     "data": {
      "text/html": [
       "<style  type=\"text/css\" >\n",
       "#T_3c6faeb4_1a94_11eb_a895_784f438fbef9row0_col0,#T_3c6faeb4_1a94_11eb_a895_784f438fbef9row1_col0,#T_3c6faeb4_1a94_11eb_a895_784f438fbef9row2_col0,#T_3c6faeb4_1a94_11eb_a895_784f438fbef9row3_col0,#T_3c6faeb4_1a94_11eb_a895_784f438fbef9row4_col0{\n",
       "            background-color:  darkorange;\n",
       "        }</style><table id=\"T_3c6faeb4_1a94_11eb_a895_784f438fbef9\" ><thead>    <tr>        <th class=\"blank level0\" ></th>        <th class=\"col_heading level0 col0\" >Train</th>        <th class=\"col_heading level0 col1\" >Test</th>    </tr>    <tr>        <th class=\"index_name level0\" >RF regressor</th>        <th class=\"blank\" ></th>        <th class=\"blank\" ></th>    </tr></thead><tbody>\n",
       "                <tr>\n",
       "                        <th id=\"T_3c6faeb4_1a94_11eb_a895_784f438fbef9level0_row0\" class=\"row_heading level0 row0\" >MAE</th>\n",
       "                        <td id=\"T_3c6faeb4_1a94_11eb_a895_784f438fbef9row0_col0\" class=\"data row0 col0\" >672.784496</td>\n",
       "                        <td id=\"T_3c6faeb4_1a94_11eb_a895_784f438fbef9row0_col1\" class=\"data row0 col1\" >809.686241</td>\n",
       "            </tr>\n",
       "            <tr>\n",
       "                        <th id=\"T_3c6faeb4_1a94_11eb_a895_784f438fbef9level0_row1\" class=\"row_heading level0 row1\" >MSE</th>\n",
       "                        <td id=\"T_3c6faeb4_1a94_11eb_a895_784f438fbef9row1_col0\" class=\"data row1 col0\" >2074370.878853</td>\n",
       "                        <td id=\"T_3c6faeb4_1a94_11eb_a895_784f438fbef9row1_col1\" class=\"data row1 col1\" >3099858.480360</td>\n",
       "            </tr>\n",
       "            <tr>\n",
       "                        <th id=\"T_3c6faeb4_1a94_11eb_a895_784f438fbef9level0_row2\" class=\"row_heading level0 row2\" >R2</th>\n",
       "                        <td id=\"T_3c6faeb4_1a94_11eb_a895_784f438fbef9row2_col0\" class=\"data row2 col0\" >0.879276</td>\n",
       "                        <td id=\"T_3c6faeb4_1a94_11eb_a895_784f438fbef9row2_col1\" class=\"data row2 col1\" >0.854657</td>\n",
       "            </tr>\n",
       "            <tr>\n",
       "                        <th id=\"T_3c6faeb4_1a94_11eb_a895_784f438fbef9level0_row3\" class=\"row_heading level0 row3\" >RMSE</th>\n",
       "                        <td id=\"T_3c6faeb4_1a94_11eb_a895_784f438fbef9row3_col0\" class=\"data row3 col0\" >1440.267641</td>\n",
       "                        <td id=\"T_3c6faeb4_1a94_11eb_a895_784f438fbef9row3_col1\" class=\"data row3 col1\" >1760.641497</td>\n",
       "            </tr>\n",
       "            <tr>\n",
       "                        <th id=\"T_3c6faeb4_1a94_11eb_a895_784f438fbef9level0_row4\" class=\"row_heading level0 row4\" >Score Classifier</th>\n",
       "                        <td id=\"T_3c6faeb4_1a94_11eb_a895_784f438fbef9row4_col0\" class=\"data row4 col0\" >0.935294</td>\n",
       "                        <td id=\"T_3c6faeb4_1a94_11eb_a895_784f438fbef9row4_col1\" class=\"data row4 col1\" >0.863014</td>\n",
       "            </tr>\n",
       "    </tbody></table>"
      ],
      "text/plain": [
       "<pandas.io.formats.style.Styler at 0x7fd265337750>"
      ]
     },
     "execution_count": 31,
     "metadata": {},
     "output_type": "execute_result"
    }
   ],
   "source": [
    "train_test_df(df_1=train_df, df_2=test_df, column='RF regressor')"
   ]
  }
 ],
 "metadata": {
  "kernelspec": {
   "display_name": "Python 3",
   "language": "python",
   "name": "python3"
  },
  "language_info": {
   "codemirror_mode": {
    "name": "ipython",
    "version": 3
   },
   "file_extension": ".py",
   "mimetype": "text/x-python",
   "name": "python",
   "nbconvert_exporter": "python",
   "pygments_lexer": "ipython3",
   "version": "3.7.4"
  }
 },
 "nbformat": 4,
 "nbformat_minor": 4
}
