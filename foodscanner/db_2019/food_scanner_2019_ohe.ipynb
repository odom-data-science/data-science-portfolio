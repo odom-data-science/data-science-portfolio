{
 "cells": [
  {
   "cell_type": "code",
   "execution_count": 1,
   "metadata": {},
   "outputs": [],
   "source": [
    "import warnings\n",
    "from sys import stdout\n",
    "import sys\n",
    "\n",
    "import numpy as np\n",
    "import pandas as pd\n",
    "import pylab as plot\n",
    "\n",
    "import seaborn as sns\n",
    "import missingno as msno\n",
    "import matplotlib.pyplot as plt\n",
    "import matplotlib.gridspec as gridspec\n",
    "from matplotlib.colors import ListedColormap\n",
    "from sklearn.model_selection import train_test_split\n",
    "from sklearn.linear_model import LinearRegression\n",
    "from sklearn.ensemble import RandomForestRegressor\n",
    "from sklearn.cross_decomposition import PLSRegression\n",
    "from sklearn.svm import  SVR\n",
    "from sklearn import metrics\n",
    "from IPython.display import display\n",
    "\n",
    "from module_utils.utils import head_shape, describe_plus, na_per_col, total_na_df, highlight_bests_metrics, train_test_df\n",
    "from module_utils.scoreRegression import onehot_encoder\n",
    "from module_utils.model_training import plot_mae_and_predict, train_model, compute_losses_reg, training_models\n",
    "from module_utils.preprocess import extract_x_y\n",
    "sns.set(font_scale=1.2, style=\"darkgrid\", palette=\"colorblind\", color_codes=True)\n",
    "params = {\"legend.fontsize\":15,\n",
    "          \"legend.handlelength\":2}\n",
    "plot.rcParams.update(params)\n",
    "warnings.filterwarnings('ignore')\n",
    "np.set_printoptions(threshold=sys.maxsize)"
   ]
  },
  {
   "cell_type": "code",
   "execution_count": 2,
   "metadata": {},
   "outputs": [],
   "source": [
    "df = pd.read_csv('../All Data (human readable column names).csv', sep = ',')"
   ]
  },
  {
   "cell_type": "code",
   "execution_count": 3,
   "metadata": {},
   "outputs": [],
   "source": [
    "# drop useless columns\n",
    "drop_id = ['ID', 'Surface Scan Device ID', 'Juice Scan Device ID']\n",
    "df = df.drop(drop_id, axis=1)\n",
    "\n",
    "# targets columns\n",
    "target_variables = df.filter(regex=\"Brix|Antioxidants|Polyphenols\", axis=1).columns\n",
    "\n",
    "# Juice scans columns\n",
    "juice_col = df.filter(regex=\"Juice\", axis=1).columns\n",
    "juice_target = df.filter(regex=\"Juice|Antioxidants|Polyphenols|Brix\", axis=1).columns\n",
    "\n",
    "# Surface scans columns\n",
    "df.rename(columns={\"Surface Scan 386nm\":\"Surface Scan 385nm\"}, inplace=True)\n",
    "surface_col = df.loc[:, df.columns.str.startswith(\"Surface\")].columns\n",
    "surface_target = df.filter(regex=\"Surface|Antioxidants|Polyphenols|Brix\", axis=1).columns\n",
    "\n",
    "# Juice and surface scans columns\n",
    "surface_juice_col = surface_col.append(juice_col)\n",
    "surface_juice_target = surface_juice_col.append(target_variables)"
   ]
  },
  {
   "cell_type": "code",
   "execution_count": 4,
   "metadata": {},
   "outputs": [],
   "source": [
    "df_type_poly_surface = df.filter(regex=\"Surface|Brix|Polyphenols|Antioxidants|Type\").dropna()"
   ]
  },
  {
   "cell_type": "code",
   "execution_count": 5,
   "metadata": {},
   "outputs": [
    {
     "data": {
      "text/html": [
       "<div>\n",
       "<style scoped>\n",
       "    .dataframe tbody tr th:only-of-type {\n",
       "        vertical-align: middle;\n",
       "    }\n",
       "\n",
       "    .dataframe tbody tr th {\n",
       "        vertical-align: top;\n",
       "    }\n",
       "\n",
       "    .dataframe thead th {\n",
       "        text-align: right;\n",
       "    }\n",
       "</style>\n",
       "<table border=\"1\" class=\"dataframe\">\n",
       "  <thead>\n",
       "    <tr style=\"text-align: right;\">\n",
       "      <th></th>\n",
       "      <th>Type</th>\n",
       "      <th>Brix</th>\n",
       "      <th>Polyphenols</th>\n",
       "      <th>Antioxidants</th>\n",
       "      <th>Surface Scan 365nm</th>\n",
       "      <th>Surface Scan 385nm</th>\n",
       "      <th>Surface Scan 450nm</th>\n",
       "      <th>Surface Scan 500nm</th>\n",
       "      <th>Surface Scan 530nm</th>\n",
       "      <th>Surface Scan 587nm</th>\n",
       "      <th>Surface Scan 632nm</th>\n",
       "      <th>Surface Scan 850nm</th>\n",
       "      <th>Surface Scan 880nm</th>\n",
       "      <th>Surface Scan 940nm</th>\n",
       "    </tr>\n",
       "  </thead>\n",
       "  <tbody>\n",
       "    <tr>\n",
       "      <th>18</th>\n",
       "      <td>kale</td>\n",
       "      <td>8.8</td>\n",
       "      <td>124.78</td>\n",
       "      <td>17453.50</td>\n",
       "      <td>1.4300</td>\n",
       "      <td>2.2310</td>\n",
       "      <td>7.5800</td>\n",
       "      <td>6.155</td>\n",
       "      <td>12.670</td>\n",
       "      <td>12.22</td>\n",
       "      <td>7.848</td>\n",
       "      <td>56.35</td>\n",
       "      <td>64.74</td>\n",
       "      <td>61.15</td>\n",
       "    </tr>\n",
       "    <tr>\n",
       "      <th>19</th>\n",
       "      <td>kale</td>\n",
       "      <td>5.5</td>\n",
       "      <td>132.01</td>\n",
       "      <td>18693.60</td>\n",
       "      <td>2.0200</td>\n",
       "      <td>3.4970</td>\n",
       "      <td>9.9600</td>\n",
       "      <td>8.341</td>\n",
       "      <td>14.350</td>\n",
       "      <td>15.76</td>\n",
       "      <td>10.720</td>\n",
       "      <td>55.02</td>\n",
       "      <td>61.58</td>\n",
       "      <td>68.33</td>\n",
       "    </tr>\n",
       "    <tr>\n",
       "      <th>20</th>\n",
       "      <td>kale</td>\n",
       "      <td>6.0</td>\n",
       "      <td>90.50</td>\n",
       "      <td>11900.40</td>\n",
       "      <td>0.6584</td>\n",
       "      <td>0.6085</td>\n",
       "      <td>5.1970</td>\n",
       "      <td>7.758</td>\n",
       "      <td>12.540</td>\n",
       "      <td>13.75</td>\n",
       "      <td>9.819</td>\n",
       "      <td>58.43</td>\n",
       "      <td>69.38</td>\n",
       "      <td>57.07</td>\n",
       "    </tr>\n",
       "    <tr>\n",
       "      <th>24</th>\n",
       "      <td>carrot</td>\n",
       "      <td>7.5</td>\n",
       "      <td>4.33</td>\n",
       "      <td>93.73</td>\n",
       "      <td>1.5400</td>\n",
       "      <td>0.9140</td>\n",
       "      <td>-0.4908</td>\n",
       "      <td>2.843</td>\n",
       "      <td>6.821</td>\n",
       "      <td>47.94</td>\n",
       "      <td>49.480</td>\n",
       "      <td>58.75</td>\n",
       "      <td>73.09</td>\n",
       "      <td>49.70</td>\n",
       "    </tr>\n",
       "    <tr>\n",
       "      <th>25</th>\n",
       "      <td>carrot</td>\n",
       "      <td>7.4</td>\n",
       "      <td>3.56</td>\n",
       "      <td>107.07</td>\n",
       "      <td>0.6809</td>\n",
       "      <td>-0.2204</td>\n",
       "      <td>-1.0710</td>\n",
       "      <td>2.328</td>\n",
       "      <td>6.156</td>\n",
       "      <td>43.87</td>\n",
       "      <td>44.060</td>\n",
       "      <td>53.59</td>\n",
       "      <td>68.12</td>\n",
       "      <td>44.78</td>\n",
       "    </tr>\n",
       "  </tbody>\n",
       "</table>\n",
       "</div>"
      ],
      "text/plain": [
       "      Type  Brix  Polyphenols  Antioxidants  Surface Scan 365nm  \\\n",
       "18    kale   8.8       124.78      17453.50              1.4300   \n",
       "19    kale   5.5       132.01      18693.60              2.0200   \n",
       "20    kale   6.0        90.50      11900.40              0.6584   \n",
       "24  carrot   7.5         4.33         93.73              1.5400   \n",
       "25  carrot   7.4         3.56        107.07              0.6809   \n",
       "\n",
       "    Surface Scan 385nm  Surface Scan 450nm  Surface Scan 500nm  \\\n",
       "18              2.2310              7.5800               6.155   \n",
       "19              3.4970              9.9600               8.341   \n",
       "20              0.6085              5.1970               7.758   \n",
       "24              0.9140             -0.4908               2.843   \n",
       "25             -0.2204             -1.0710               2.328   \n",
       "\n",
       "    Surface Scan 530nm  Surface Scan 587nm  Surface Scan 632nm  \\\n",
       "18              12.670               12.22               7.848   \n",
       "19              14.350               15.76              10.720   \n",
       "20              12.540               13.75               9.819   \n",
       "24               6.821               47.94              49.480   \n",
       "25               6.156               43.87              44.060   \n",
       "\n",
       "    Surface Scan 850nm  Surface Scan 880nm  Surface Scan 940nm  \n",
       "18               56.35               64.74               61.15  \n",
       "19               55.02               61.58               68.33  \n",
       "20               58.43               69.38               57.07  \n",
       "24               58.75               73.09               49.70  \n",
       "25               53.59               68.12               44.78  "
      ]
     },
     "metadata": {},
     "output_type": "display_data"
    },
    {
     "data": {
      "text/plain": [
       "(1291, 14)"
      ]
     },
     "metadata": {},
     "output_type": "display_data"
    }
   ],
   "source": [
    "head_shape(df_type_poly_surface)"
   ]
  },
  {
   "cell_type": "code",
   "execution_count": 6,
   "metadata": {},
   "outputs": [],
   "source": [
    "index_df = df_type_poly_surface.index\n",
    "columns_types = np.sort(df_type_poly_surface['Type'].unique())\n",
    "values = np.array(df_type_poly_surface[['Type']])\n",
    "vegetables = df['Type'].dropna().unique()"
   ]
  },
  {
   "cell_type": "code",
   "execution_count": 7,
   "metadata": {},
   "outputs": [],
   "source": [
    "df_type = onehot_encoder(values, index_df, columns_types)\n",
    "df_ohe = pd.concat([df_type_poly_surface, df_type], axis=1).drop(\"Type\", axis=1)"
   ]
  },
  {
   "cell_type": "code",
   "execution_count": 8,
   "metadata": {},
   "outputs": [
    {
     "data": {
      "text/html": [
       "<div>\n",
       "<style scoped>\n",
       "    .dataframe tbody tr th:only-of-type {\n",
       "        vertical-align: middle;\n",
       "    }\n",
       "\n",
       "    .dataframe tbody tr th {\n",
       "        vertical-align: top;\n",
       "    }\n",
       "\n",
       "    .dataframe thead th {\n",
       "        text-align: right;\n",
       "    }\n",
       "</style>\n",
       "<table border=\"1\" class=\"dataframe\">\n",
       "  <thead>\n",
       "    <tr style=\"text-align: right;\">\n",
       "      <th></th>\n",
       "      <th>Brix</th>\n",
       "      <th>Polyphenols</th>\n",
       "      <th>Antioxidants</th>\n",
       "      <th>Surface Scan 365nm</th>\n",
       "      <th>Surface Scan 385nm</th>\n",
       "      <th>Surface Scan 450nm</th>\n",
       "      <th>Surface Scan 500nm</th>\n",
       "      <th>Surface Scan 530nm</th>\n",
       "      <th>Surface Scan 587nm</th>\n",
       "      <th>Surface Scan 632nm</th>\n",
       "      <th>Surface Scan 850nm</th>\n",
       "      <th>Surface Scan 880nm</th>\n",
       "      <th>Surface Scan 940nm</th>\n",
       "      <th>carrot</th>\n",
       "      <th>cherry_tomato</th>\n",
       "      <th>grape</th>\n",
       "      <th>kale</th>\n",
       "      <th>lettuce</th>\n",
       "      <th>other</th>\n",
       "      <th>spinach</th>\n",
       "    </tr>\n",
       "  </thead>\n",
       "  <tbody>\n",
       "    <tr>\n",
       "      <th>18</th>\n",
       "      <td>8.8</td>\n",
       "      <td>124.78</td>\n",
       "      <td>17453.50</td>\n",
       "      <td>1.4300</td>\n",
       "      <td>2.2310</td>\n",
       "      <td>7.5800</td>\n",
       "      <td>6.155</td>\n",
       "      <td>12.670</td>\n",
       "      <td>12.22</td>\n",
       "      <td>7.848</td>\n",
       "      <td>56.35</td>\n",
       "      <td>64.74</td>\n",
       "      <td>61.15</td>\n",
       "      <td>0</td>\n",
       "      <td>0</td>\n",
       "      <td>0</td>\n",
       "      <td>1</td>\n",
       "      <td>0</td>\n",
       "      <td>0</td>\n",
       "      <td>0</td>\n",
       "    </tr>\n",
       "    <tr>\n",
       "      <th>19</th>\n",
       "      <td>5.5</td>\n",
       "      <td>132.01</td>\n",
       "      <td>18693.60</td>\n",
       "      <td>2.0200</td>\n",
       "      <td>3.4970</td>\n",
       "      <td>9.9600</td>\n",
       "      <td>8.341</td>\n",
       "      <td>14.350</td>\n",
       "      <td>15.76</td>\n",
       "      <td>10.720</td>\n",
       "      <td>55.02</td>\n",
       "      <td>61.58</td>\n",
       "      <td>68.33</td>\n",
       "      <td>0</td>\n",
       "      <td>0</td>\n",
       "      <td>0</td>\n",
       "      <td>1</td>\n",
       "      <td>0</td>\n",
       "      <td>0</td>\n",
       "      <td>0</td>\n",
       "    </tr>\n",
       "    <tr>\n",
       "      <th>20</th>\n",
       "      <td>6.0</td>\n",
       "      <td>90.50</td>\n",
       "      <td>11900.40</td>\n",
       "      <td>0.6584</td>\n",
       "      <td>0.6085</td>\n",
       "      <td>5.1970</td>\n",
       "      <td>7.758</td>\n",
       "      <td>12.540</td>\n",
       "      <td>13.75</td>\n",
       "      <td>9.819</td>\n",
       "      <td>58.43</td>\n",
       "      <td>69.38</td>\n",
       "      <td>57.07</td>\n",
       "      <td>0</td>\n",
       "      <td>0</td>\n",
       "      <td>0</td>\n",
       "      <td>1</td>\n",
       "      <td>0</td>\n",
       "      <td>0</td>\n",
       "      <td>0</td>\n",
       "    </tr>\n",
       "    <tr>\n",
       "      <th>24</th>\n",
       "      <td>7.5</td>\n",
       "      <td>4.33</td>\n",
       "      <td>93.73</td>\n",
       "      <td>1.5400</td>\n",
       "      <td>0.9140</td>\n",
       "      <td>-0.4908</td>\n",
       "      <td>2.843</td>\n",
       "      <td>6.821</td>\n",
       "      <td>47.94</td>\n",
       "      <td>49.480</td>\n",
       "      <td>58.75</td>\n",
       "      <td>73.09</td>\n",
       "      <td>49.70</td>\n",
       "      <td>1</td>\n",
       "      <td>0</td>\n",
       "      <td>0</td>\n",
       "      <td>0</td>\n",
       "      <td>0</td>\n",
       "      <td>0</td>\n",
       "      <td>0</td>\n",
       "    </tr>\n",
       "    <tr>\n",
       "      <th>25</th>\n",
       "      <td>7.4</td>\n",
       "      <td>3.56</td>\n",
       "      <td>107.07</td>\n",
       "      <td>0.6809</td>\n",
       "      <td>-0.2204</td>\n",
       "      <td>-1.0710</td>\n",
       "      <td>2.328</td>\n",
       "      <td>6.156</td>\n",
       "      <td>43.87</td>\n",
       "      <td>44.060</td>\n",
       "      <td>53.59</td>\n",
       "      <td>68.12</td>\n",
       "      <td>44.78</td>\n",
       "      <td>1</td>\n",
       "      <td>0</td>\n",
       "      <td>0</td>\n",
       "      <td>0</td>\n",
       "      <td>0</td>\n",
       "      <td>0</td>\n",
       "      <td>0</td>\n",
       "    </tr>\n",
       "  </tbody>\n",
       "</table>\n",
       "</div>"
      ],
      "text/plain": [
       "    Brix  Polyphenols  Antioxidants  Surface Scan 365nm  Surface Scan 385nm  \\\n",
       "18   8.8       124.78      17453.50              1.4300              2.2310   \n",
       "19   5.5       132.01      18693.60              2.0200              3.4970   \n",
       "20   6.0        90.50      11900.40              0.6584              0.6085   \n",
       "24   7.5         4.33         93.73              1.5400              0.9140   \n",
       "25   7.4         3.56        107.07              0.6809             -0.2204   \n",
       "\n",
       "    Surface Scan 450nm  Surface Scan 500nm  Surface Scan 530nm  \\\n",
       "18              7.5800               6.155              12.670   \n",
       "19              9.9600               8.341              14.350   \n",
       "20              5.1970               7.758              12.540   \n",
       "24             -0.4908               2.843               6.821   \n",
       "25             -1.0710               2.328               6.156   \n",
       "\n",
       "    Surface Scan 587nm  Surface Scan 632nm  Surface Scan 850nm  \\\n",
       "18               12.22               7.848               56.35   \n",
       "19               15.76              10.720               55.02   \n",
       "20               13.75               9.819               58.43   \n",
       "24               47.94              49.480               58.75   \n",
       "25               43.87              44.060               53.59   \n",
       "\n",
       "    Surface Scan 880nm  Surface Scan 940nm  carrot  cherry_tomato  grape  \\\n",
       "18               64.74               61.15       0              0      0   \n",
       "19               61.58               68.33       0              0      0   \n",
       "20               69.38               57.07       0              0      0   \n",
       "24               73.09               49.70       1              0      0   \n",
       "25               68.12               44.78       1              0      0   \n",
       "\n",
       "    kale  lettuce  other  spinach  \n",
       "18     1        0      0        0  \n",
       "19     1        0      0        0  \n",
       "20     1        0      0        0  \n",
       "24     0        0      0        0  \n",
       "25     0        0      0        0  "
      ]
     },
     "metadata": {},
     "output_type": "display_data"
    },
    {
     "data": {
      "text/plain": [
       "(1291, 20)"
      ]
     },
     "metadata": {},
     "output_type": "display_data"
    }
   ],
   "source": [
    "head_shape(df_ohe)"
   ]
  },
  {
   "cell_type": "code",
   "execution_count": 9,
   "metadata": {},
   "outputs": [
    {
     "data": {
      "image/png": "[encoded data removed]",
      "text/plain": [
       "<Figure size 1008x432 with 1 Axes>"
      ]
     },
     "metadata": {
      "needs_background": "light"
     },
     "output_type": "display_data"
    }
   ],
   "source": [
    "plt.figure(figsize=(14,6))\n",
    "sns.countplot(x=\"Type\", data=df, order=df['Type'].value_counts().index)\n",
    "plt.title(\"Samples provided for each vegetables\", fontsize=16, weight=\"bold\")\n",
    "plt.show()"
   ]
  },
  {
   "cell_type": "code",
   "execution_count": 10,
   "metadata": {},
   "outputs": [],
   "source": [
    "# init model objects\n",
    "lin_regression = LinearRegression()\n",
    "pls = PLSRegression(n_components=5)\n",
    "svr_rbf = SVR(kernel='rbf', C=10, gamma='auto', epsilon=.1, coef0=1)\n",
    "rf_regressor = RandomForestRegressor(n_estimators=1000, random_state=0)\n",
    "models_list = [lin_regression, pls, svr_rbf, rf_regressor]\n",
    "# create list of models used for training - for columns name\n",
    "models_name = ['Linear regression', 'Partial least squares', 'SVR RBF', 'RF regressor']"
   ]
  },
  {
   "cell_type": "markdown",
   "metadata": {},
   "source": [
    "- #### Columns: Surface Scans\n",
    "- #### Type: All\n",
    "- #### Target: Brix"
   ]
  },
  {
   "cell_type": "code",
   "execution_count": 11,
   "metadata": {},
   "outputs": [],
   "source": [
    "x, y = extract_x_y(df=df_ohe, target=target_variables, col_index=0)\n",
    "x_train, x_test, y_train, y_test = train_test_split(x, y, test_size=0.30, random_state=42)"
   ]
  },
  {
   "cell_type": "code",
   "execution_count": 12,
   "metadata": {},
   "outputs": [
    {
     "name": "stdout",
     "output_type": "stream",
     "text": [
      "x_train (903, 17)\n",
      "x_test (388, 17)\n",
      "y_train (903,)\n",
      "y_test (388,)\n"
     ]
    }
   ],
   "source": [
    "print(\"x_train\", x_train.shape)\n",
    "print(\"x_test\", x_test.shape)\n",
    "print(\"y_train\", y_train.shape)\n",
    "print(\"y_test\", y_test.shape)"
   ]
  },
  {
   "cell_type": "code",
   "execution_count": 13,
   "metadata": {},
   "outputs": [
    {
     "data": {
      "text/html": [
       "<style  type=\"text/css\" >\n",
       "#T_c78cc914_1927_11eb_aa8f_acde48001122row0_col2,#T_c78cc914_1927_11eb_aa8f_acde48001122row1_col2,#T_c78cc914_1927_11eb_aa8f_acde48001122row2_col2,#T_c78cc914_1927_11eb_aa8f_acde48001122row3_col2,#T_c78cc914_1927_11eb_aa8f_acde48001122row4_col2{\n",
       "            background-color:  darkorange;\n",
       "        }</style><table id=\"T_c78cc914_1927_11eb_aa8f_acde48001122\" ><thead>    <tr>        <th class=\"blank level0\" ></th>        <th class=\"col_heading level0 col0\" >Linear regression</th>        <th class=\"col_heading level0 col1\" >Partial least squares</th>        <th class=\"col_heading level0 col2\" >SVR RBF</th>        <th class=\"col_heading level0 col3\" >RF regressor</th>    </tr></thead><tbody>\n",
       "                <tr>\n",
       "                        <th id=\"T_c78cc914_1927_11eb_aa8f_acde48001122level0_row0\" class=\"row_heading level0 row0\" >MAE</th>\n",
       "                        <td id=\"T_c78cc914_1927_11eb_aa8f_acde48001122row0_col0\" class=\"data row0 col0\" >1.471412</td>\n",
       "                        <td id=\"T_c78cc914_1927_11eb_aa8f_acde48001122row0_col1\" class=\"data row0 col1\" >1.498926</td>\n",
       "                        <td id=\"T_c78cc914_1927_11eb_aa8f_acde48001122row0_col2\" class=\"data row0 col2\" >0.179920</td>\n",
       "                        <td id=\"T_c78cc914_1927_11eb_aa8f_acde48001122row0_col3\" class=\"data row0 col3\" >0.533170</td>\n",
       "            </tr>\n",
       "            <tr>\n",
       "                        <th id=\"T_c78cc914_1927_11eb_aa8f_acde48001122level0_row1\" class=\"row_heading level0 row1\" >MSE</th>\n",
       "                        <td id=\"T_c78cc914_1927_11eb_aa8f_acde48001122row1_col0\" class=\"data row1 col0\" >4.216917</td>\n",
       "                        <td id=\"T_c78cc914_1927_11eb_aa8f_acde48001122row1_col1\" class=\"data row1 col1\" >4.387726</td>\n",
       "                        <td id=\"T_c78cc914_1927_11eb_aa8f_acde48001122row1_col2\" class=\"data row1 col2\" >0.306738</td>\n",
       "                        <td id=\"T_c78cc914_1927_11eb_aa8f_acde48001122row1_col3\" class=\"data row1 col3\" >0.557176</td>\n",
       "            </tr>\n",
       "            <tr>\n",
       "                        <th id=\"T_c78cc914_1927_11eb_aa8f_acde48001122level0_row2\" class=\"row_heading level0 row2\" >R2</th>\n",
       "                        <td id=\"T_c78cc914_1927_11eb_aa8f_acde48001122row2_col0\" class=\"data row2 col0\" >0.697505</td>\n",
       "                        <td id=\"T_c78cc914_1927_11eb_aa8f_acde48001122row2_col1\" class=\"data row2 col1\" >0.685252</td>\n",
       "                        <td id=\"T_c78cc914_1927_11eb_aa8f_acde48001122row2_col2\" class=\"data row2 col2\" >0.977997</td>\n",
       "                        <td id=\"T_c78cc914_1927_11eb_aa8f_acde48001122row2_col3\" class=\"data row2 col3\" >0.960032</td>\n",
       "            </tr>\n",
       "            <tr>\n",
       "                        <th id=\"T_c78cc914_1927_11eb_aa8f_acde48001122level0_row3\" class=\"row_heading level0 row3\" >RMSE</th>\n",
       "                        <td id=\"T_c78cc914_1927_11eb_aa8f_acde48001122row3_col0\" class=\"data row3 col0\" >2.053513</td>\n",
       "                        <td id=\"T_c78cc914_1927_11eb_aa8f_acde48001122row3_col1\" class=\"data row3 col1\" >2.094690</td>\n",
       "                        <td id=\"T_c78cc914_1927_11eb_aa8f_acde48001122row3_col2\" class=\"data row3 col2\" >0.553839</td>\n",
       "                        <td id=\"T_c78cc914_1927_11eb_aa8f_acde48001122row3_col3\" class=\"data row3 col3\" >0.746442</td>\n",
       "            </tr>\n",
       "            <tr>\n",
       "                        <th id=\"T_c78cc914_1927_11eb_aa8f_acde48001122level0_row4\" class=\"row_heading level0 row4\" >Score Classifier</th>\n",
       "                        <td id=\"T_c78cc914_1927_11eb_aa8f_acde48001122row4_col0\" class=\"data row4 col0\" >0.817276</td>\n",
       "                        <td id=\"T_c78cc914_1927_11eb_aa8f_acde48001122row4_col1\" class=\"data row4 col1\" >0.820598</td>\n",
       "                        <td id=\"T_c78cc914_1927_11eb_aa8f_acde48001122row4_col2\" class=\"data row4 col2\" >0.986711</td>\n",
       "                        <td id=\"T_c78cc914_1927_11eb_aa8f_acde48001122row4_col3\" class=\"data row4 col3\" >0.932447</td>\n",
       "            </tr>\n",
       "    </tbody></table>"
      ],
      "text/plain": [
       "<pandas.io.formats.style.Styler at 0x7fc2ceb8ab50>"
      ]
     },
     "execution_count": 13,
     "metadata": {},
     "output_type": "execute_result"
    }
   ],
   "source": [
    "train_df = training_models(x=x_train, y=y_train, models=models_list, col_name=models_name)\n",
    "test_df = training_models(x=x_test, y=y_test, models=models_list, col_name=models_name)\n",
    "highlight_bests_metrics(train_df)"
   ]
  },
  {
   "cell_type": "code",
   "execution_count": 14,
   "metadata": {},
   "outputs": [
    {
     "data": {
      "text/html": [
       "<style  type=\"text/css\" >\n",
       "#T_c790b812_1927_11eb_aa8f_acde48001122row0_col1,#T_c790b812_1927_11eb_aa8f_acde48001122row1_col1,#T_c790b812_1927_11eb_aa8f_acde48001122row2_col1,#T_c790b812_1927_11eb_aa8f_acde48001122row3_col1,#T_c790b812_1927_11eb_aa8f_acde48001122row4_col1{\n",
       "            background-color:  darkorange;\n",
       "        }</style><table id=\"T_c790b812_1927_11eb_aa8f_acde48001122\" ><thead>    <tr>        <th class=\"blank level0\" ></th>        <th class=\"col_heading level0 col0\" >Train</th>        <th class=\"col_heading level0 col1\" >Test</th>    </tr>    <tr>        <th class=\"index_name level0\" >SVR RBF</th>        <th class=\"blank\" ></th>        <th class=\"blank\" ></th>    </tr></thead><tbody>\n",
       "                <tr>\n",
       "                        <th id=\"T_c790b812_1927_11eb_aa8f_acde48001122level0_row0\" class=\"row_heading level0 row0\" >MAE</th>\n",
       "                        <td id=\"T_c790b812_1927_11eb_aa8f_acde48001122row0_col0\" class=\"data row0 col0\" >0.179920</td>\n",
       "                        <td id=\"T_c790b812_1927_11eb_aa8f_acde48001122row0_col1\" class=\"data row0 col1\" >0.146983</td>\n",
       "            </tr>\n",
       "            <tr>\n",
       "                        <th id=\"T_c790b812_1927_11eb_aa8f_acde48001122level0_row1\" class=\"row_heading level0 row1\" >MSE</th>\n",
       "                        <td id=\"T_c790b812_1927_11eb_aa8f_acde48001122row1_col0\" class=\"data row1 col0\" >0.306738</td>\n",
       "                        <td id=\"T_c790b812_1927_11eb_aa8f_acde48001122row1_col1\" class=\"data row1 col1\" >0.148896</td>\n",
       "            </tr>\n",
       "            <tr>\n",
       "                        <th id=\"T_c790b812_1927_11eb_aa8f_acde48001122level0_row2\" class=\"row_heading level0 row2\" >R2</th>\n",
       "                        <td id=\"T_c790b812_1927_11eb_aa8f_acde48001122row2_col0\" class=\"data row2 col0\" >0.977997</td>\n",
       "                        <td id=\"T_c790b812_1927_11eb_aa8f_acde48001122row2_col1\" class=\"data row2 col1\" >0.986419</td>\n",
       "            </tr>\n",
       "            <tr>\n",
       "                        <th id=\"T_c790b812_1927_11eb_aa8f_acde48001122level0_row3\" class=\"row_heading level0 row3\" >RMSE</th>\n",
       "                        <td id=\"T_c790b812_1927_11eb_aa8f_acde48001122row3_col0\" class=\"data row3 col0\" >0.553839</td>\n",
       "                        <td id=\"T_c790b812_1927_11eb_aa8f_acde48001122row3_col1\" class=\"data row3 col1\" >0.385870</td>\n",
       "            </tr>\n",
       "            <tr>\n",
       "                        <th id=\"T_c790b812_1927_11eb_aa8f_acde48001122level0_row4\" class=\"row_heading level0 row4\" >Score Classifier</th>\n",
       "                        <td id=\"T_c790b812_1927_11eb_aa8f_acde48001122row4_col0\" class=\"data row4 col0\" >0.986711</td>\n",
       "                        <td id=\"T_c790b812_1927_11eb_aa8f_acde48001122row4_col1\" class=\"data row4 col1\" >0.994845</td>\n",
       "            </tr>\n",
       "    </tbody></table>"
      ],
      "text/plain": [
       "<pandas.io.formats.style.Styler at 0x7fc2b6463690>"
      ]
     },
     "execution_count": 14,
     "metadata": {},
     "output_type": "execute_result"
    }
   ],
   "source": [
    "train_test_df(df_1=train_df, df_2=test_df, column='SVR RBF')"
   ]
  },
  {
   "cell_type": "markdown",
   "metadata": {},
   "source": [
    "- #### Columns: Surface Scans\n",
    "- #### Type: All\n",
    "- #### Target: Polyphenols"
   ]
  },
  {
   "cell_type": "code",
   "execution_count": 15,
   "metadata": {},
   "outputs": [],
   "source": [
    "x, y = extract_x_y(df=df_ohe, target=target_variables, col_index=1)\n",
    "x_train, x_test, y_train, y_test = train_test_split(x, y, test_size=0.30, random_state=42)"
   ]
  },
  {
   "cell_type": "code",
   "execution_count": 16,
   "metadata": {},
   "outputs": [
    {
     "data": {
      "text/html": [
       "<style  type=\"text/css\" >\n",
       "#T_ccf95e26_1927_11eb_aa8f_acde48001122row0_col3,#T_ccf95e26_1927_11eb_aa8f_acde48001122row1_col3,#T_ccf95e26_1927_11eb_aa8f_acde48001122row2_col3,#T_ccf95e26_1927_11eb_aa8f_acde48001122row3_col3,#T_ccf95e26_1927_11eb_aa8f_acde48001122row4_col2{\n",
       "            background-color:  darkorange;\n",
       "        }</style><table id=\"T_ccf95e26_1927_11eb_aa8f_acde48001122\" ><thead>    <tr>        <th class=\"blank level0\" ></th>        <th class=\"col_heading level0 col0\" >Linear regression</th>        <th class=\"col_heading level0 col1\" >Partial least squares</th>        <th class=\"col_heading level0 col2\" >SVR RBF</th>        <th class=\"col_heading level0 col3\" >RF regressor</th>    </tr></thead><tbody>\n",
       "                <tr>\n",
       "                        <th id=\"T_ccf95e26_1927_11eb_aa8f_acde48001122level0_row0\" class=\"row_heading level0 row0\" >MAE</th>\n",
       "                        <td id=\"T_ccf95e26_1927_11eb_aa8f_acde48001122row0_col0\" class=\"data row0 col0\" >60.640944</td>\n",
       "                        <td id=\"T_ccf95e26_1927_11eb_aa8f_acde48001122row0_col1\" class=\"data row0 col1\" >58.150633</td>\n",
       "                        <td id=\"T_ccf95e26_1927_11eb_aa8f_acde48001122row0_col2\" class=\"data row0 col2\" >86.371985</td>\n",
       "                        <td id=\"T_ccf95e26_1927_11eb_aa8f_acde48001122row0_col3\" class=\"data row0 col3\" >19.437562</td>\n",
       "            </tr>\n",
       "            <tr>\n",
       "                        <th id=\"T_ccf95e26_1927_11eb_aa8f_acde48001122level0_row1\" class=\"row_heading level0 row1\" >MSE</th>\n",
       "                        <td id=\"T_ccf95e26_1927_11eb_aa8f_acde48001122row1_col0\" class=\"data row1 col0\" >11847.171994</td>\n",
       "                        <td id=\"T_ccf95e26_1927_11eb_aa8f_acde48001122row1_col1\" class=\"data row1 col1\" >12273.083345</td>\n",
       "                        <td id=\"T_ccf95e26_1927_11eb_aa8f_acde48001122row1_col2\" class=\"data row1 col2\" >31803.120606</td>\n",
       "                        <td id=\"T_ccf95e26_1927_11eb_aa8f_acde48001122row1_col3\" class=\"data row1 col3\" >1550.354663</td>\n",
       "            </tr>\n",
       "            <tr>\n",
       "                        <th id=\"T_ccf95e26_1927_11eb_aa8f_acde48001122level0_row2\" class=\"row_heading level0 row2\" >R2</th>\n",
       "                        <td id=\"T_ccf95e26_1927_11eb_aa8f_acde48001122row2_col0\" class=\"data row2 col0\" >0.587935</td>\n",
       "                        <td id=\"T_ccf95e26_1927_11eb_aa8f_acde48001122row2_col1\" class=\"data row2 col1\" >0.573121</td>\n",
       "                        <td id=\"T_ccf95e26_1927_11eb_aa8f_acde48001122row2_col2\" class=\"data row2 col2\" >-0.106167</td>\n",
       "                        <td id=\"T_ccf95e26_1927_11eb_aa8f_acde48001122row2_col3\" class=\"data row2 col3\" >0.946076</td>\n",
       "            </tr>\n",
       "            <tr>\n",
       "                        <th id=\"T_ccf95e26_1927_11eb_aa8f_acde48001122level0_row3\" class=\"row_heading level0 row3\" >RMSE</th>\n",
       "                        <td id=\"T_ccf95e26_1927_11eb_aa8f_acde48001122row3_col0\" class=\"data row3 col0\" >108.844715</td>\n",
       "                        <td id=\"T_ccf95e26_1927_11eb_aa8f_acde48001122row3_col1\" class=\"data row3 col1\" >110.783949</td>\n",
       "                        <td id=\"T_ccf95e26_1927_11eb_aa8f_acde48001122row3_col2\" class=\"data row3 col2\" >178.334295</td>\n",
       "                        <td id=\"T_ccf95e26_1927_11eb_aa8f_acde48001122row3_col3\" class=\"data row3 col3\" >39.374543</td>\n",
       "            </tr>\n",
       "            <tr>\n",
       "                        <th id=\"T_ccf95e26_1927_11eb_aa8f_acde48001122level0_row4\" class=\"row_heading level0 row4\" >Score Classifier</th>\n",
       "                        <td id=\"T_ccf95e26_1927_11eb_aa8f_acde48001122row4_col0\" class=\"data row4 col0\" >0.757475</td>\n",
       "                        <td id=\"T_ccf95e26_1927_11eb_aa8f_acde48001122row4_col1\" class=\"data row4 col1\" >0.753045</td>\n",
       "                        <td id=\"T_ccf95e26_1927_11eb_aa8f_acde48001122row4_col2\" class=\"data row4 col2\" >0.985604</td>\n",
       "                        <td id=\"T_ccf95e26_1927_11eb_aa8f_acde48001122row4_col3\" class=\"data row4 col3\" >0.946844</td>\n",
       "            </tr>\n",
       "    </tbody></table>"
      ],
      "text/plain": [
       "<pandas.io.formats.style.Styler at 0x7fc2b644cb90>"
      ]
     },
     "execution_count": 16,
     "metadata": {},
     "output_type": "execute_result"
    }
   ],
   "source": [
    "train_df = training_models(x=x_train, y=y_train, models=models_list, col_name=models_name)\n",
    "test_df = training_models(x=x_test, y=y_test, models=models_list, col_name=models_name)\n",
    "highlight_bests_metrics(train_df)"
   ]
  },
  {
   "cell_type": "code",
   "execution_count": 17,
   "metadata": {},
   "outputs": [
    {
     "data": {
      "text/html": [
       "<style  type=\"text/css\" >\n",
       "#T_ccfdc790_1927_11eb_aa8f_acde48001122row0_col0,#T_ccfdc790_1927_11eb_aa8f_acde48001122row1_col0,#T_ccfdc790_1927_11eb_aa8f_acde48001122row2_col0,#T_ccfdc790_1927_11eb_aa8f_acde48001122row3_col0,#T_ccfdc790_1927_11eb_aa8f_acde48001122row4_col0{\n",
       "            background-color:  darkorange;\n",
       "        }</style><table id=\"T_ccfdc790_1927_11eb_aa8f_acde48001122\" ><thead>    <tr>        <th class=\"blank level0\" ></th>        <th class=\"col_heading level0 col0\" >Train</th>        <th class=\"col_heading level0 col1\" >Test</th>    </tr>    <tr>        <th class=\"index_name level0\" >RF regressor</th>        <th class=\"blank\" ></th>        <th class=\"blank\" ></th>    </tr></thead><tbody>\n",
       "                <tr>\n",
       "                        <th id=\"T_ccfdc790_1927_11eb_aa8f_acde48001122level0_row0\" class=\"row_heading level0 row0\" >MAE</th>\n",
       "                        <td id=\"T_ccfdc790_1927_11eb_aa8f_acde48001122row0_col0\" class=\"data row0 col0\" >19.437562</td>\n",
       "                        <td id=\"T_ccfdc790_1927_11eb_aa8f_acde48001122row0_col1\" class=\"data row0 col1\" >21.289381</td>\n",
       "            </tr>\n",
       "            <tr>\n",
       "                        <th id=\"T_ccfdc790_1927_11eb_aa8f_acde48001122level0_row1\" class=\"row_heading level0 row1\" >MSE</th>\n",
       "                        <td id=\"T_ccfdc790_1927_11eb_aa8f_acde48001122row1_col0\" class=\"data row1 col0\" >1550.354663</td>\n",
       "                        <td id=\"T_ccfdc790_1927_11eb_aa8f_acde48001122row1_col1\" class=\"data row1 col1\" >2015.954052</td>\n",
       "            </tr>\n",
       "            <tr>\n",
       "                        <th id=\"T_ccfdc790_1927_11eb_aa8f_acde48001122level0_row2\" class=\"row_heading level0 row2\" >R2</th>\n",
       "                        <td id=\"T_ccfdc790_1927_11eb_aa8f_acde48001122row2_col0\" class=\"data row2 col0\" >0.946076</td>\n",
       "                        <td id=\"T_ccfdc790_1927_11eb_aa8f_acde48001122row2_col1\" class=\"data row2 col1\" >0.922984</td>\n",
       "            </tr>\n",
       "            <tr>\n",
       "                        <th id=\"T_ccfdc790_1927_11eb_aa8f_acde48001122level0_row3\" class=\"row_heading level0 row3\" >RMSE</th>\n",
       "                        <td id=\"T_ccfdc790_1927_11eb_aa8f_acde48001122row3_col0\" class=\"data row3 col0\" >39.374543</td>\n",
       "                        <td id=\"T_ccfdc790_1927_11eb_aa8f_acde48001122row3_col1\" class=\"data row3 col1\" >44.899377</td>\n",
       "            </tr>\n",
       "            <tr>\n",
       "                        <th id=\"T_ccfdc790_1927_11eb_aa8f_acde48001122level0_row4\" class=\"row_heading level0 row4\" >Score Classifier</th>\n",
       "                        <td id=\"T_ccfdc790_1927_11eb_aa8f_acde48001122row4_col0\" class=\"data row4 col0\" >0.946844</td>\n",
       "                        <td id=\"T_ccfdc790_1927_11eb_aa8f_acde48001122row4_col1\" class=\"data row4 col1\" >0.925258</td>\n",
       "            </tr>\n",
       "    </tbody></table>"
      ],
      "text/plain": [
       "<pandas.io.formats.style.Styler at 0x7fc2cebac910>"
      ]
     },
     "execution_count": 17,
     "metadata": {},
     "output_type": "execute_result"
    }
   ],
   "source": [
    "train_test_df(df_1=train_df, df_2=test_df, column='RF regressor')"
   ]
  },
  {
   "cell_type": "markdown",
   "metadata": {},
   "source": [
    "- #### Columns: Surface Scans\n",
    "- #### Type: All\n",
    "- #### Target: Antioxidants"
   ]
  },
  {
   "cell_type": "code",
   "execution_count": 18,
   "metadata": {},
   "outputs": [],
   "source": [
    "x, y = extract_x_y(df=df_ohe, target=target_variables, col_index=2)\n",
    "x_train, x_test, y_train, y_test = train_test_split(x, y, test_size=0.30, random_state=42)"
   ]
  },
  {
   "cell_type": "code",
   "execution_count": 19,
   "metadata": {},
   "outputs": [
    {
     "data": {
      "text/html": [
       "<style  type=\"text/css\" >\n",
       "#T_d29e37a2_1927_11eb_aa8f_acde48001122row0_col3,#T_d29e37a2_1927_11eb_aa8f_acde48001122row1_col3,#T_d29e37a2_1927_11eb_aa8f_acde48001122row2_col3,#T_d29e37a2_1927_11eb_aa8f_acde48001122row3_col3,#T_d29e37a2_1927_11eb_aa8f_acde48001122row4_col2{\n",
       "            background-color:  darkorange;\n",
       "        }</style><table id=\"T_d29e37a2_1927_11eb_aa8f_acde48001122\" ><thead>    <tr>        <th class=\"blank level0\" ></th>        <th class=\"col_heading level0 col0\" >Linear regression</th>        <th class=\"col_heading level0 col1\" >Partial least squares</th>        <th class=\"col_heading level0 col2\" >SVR RBF</th>        <th class=\"col_heading level0 col3\" >RF regressor</th>    </tr></thead><tbody>\n",
       "                <tr>\n",
       "                        <th id=\"T_d29e37a2_1927_11eb_aa8f_acde48001122level0_row0\" class=\"row_heading level0 row0\" >MAE</th>\n",
       "                        <td id=\"T_d29e37a2_1927_11eb_aa8f_acde48001122row0_col0\" class=\"data row0 col0\" >1975.468808</td>\n",
       "                        <td id=\"T_d29e37a2_1927_11eb_aa8f_acde48001122row0_col1\" class=\"data row0 col1\" >1897.960610</td>\n",
       "                        <td id=\"T_d29e37a2_1927_11eb_aa8f_acde48001122row0_col2\" class=\"data row0 col2\" >2443.885614</td>\n",
       "                        <td id=\"T_d29e37a2_1927_11eb_aa8f_acde48001122row0_col3\" class=\"data row0 col3\" >669.209503</td>\n",
       "            </tr>\n",
       "            <tr>\n",
       "                        <th id=\"T_d29e37a2_1927_11eb_aa8f_acde48001122level0_row1\" class=\"row_heading level0 row1\" >MSE</th>\n",
       "                        <td id=\"T_d29e37a2_1927_11eb_aa8f_acde48001122row1_col0\" class=\"data row1 col0\" >14493820.338247</td>\n",
       "                        <td id=\"T_d29e37a2_1927_11eb_aa8f_acde48001122row1_col1\" class=\"data row1 col1\" >14782347.122866</td>\n",
       "                        <td id=\"T_d29e37a2_1927_11eb_aa8f_acde48001122row1_col2\" class=\"data row1 col2\" >31081240.145181</td>\n",
       "                        <td id=\"T_d29e37a2_1927_11eb_aa8f_acde48001122row1_col3\" class=\"data row1 col3\" >2064345.200318</td>\n",
       "            </tr>\n",
       "            <tr>\n",
       "                        <th id=\"T_d29e37a2_1927_11eb_aa8f_acde48001122level0_row2\" class=\"row_heading level0 row2\" >R2</th>\n",
       "                        <td id=\"T_d29e37a2_1927_11eb_aa8f_acde48001122row2_col0\" class=\"data row2 col0\" >0.464785</td>\n",
       "                        <td id=\"T_d29e37a2_1927_11eb_aa8f_acde48001122row2_col1\" class=\"data row2 col1\" >0.454130</td>\n",
       "                        <td id=\"T_d29e37a2_1927_11eb_aa8f_acde48001122row2_col2\" class=\"data row2 col2\" >-0.147741</td>\n",
       "                        <td id=\"T_d29e37a2_1927_11eb_aa8f_acde48001122row2_col3\" class=\"data row2 col3\" >0.923770</td>\n",
       "            </tr>\n",
       "            <tr>\n",
       "                        <th id=\"T_d29e37a2_1927_11eb_aa8f_acde48001122level0_row3\" class=\"row_heading level0 row3\" >RMSE</th>\n",
       "                        <td id=\"T_d29e37a2_1927_11eb_aa8f_acde48001122row3_col0\" class=\"data row3 col0\" >3807.075037</td>\n",
       "                        <td id=\"T_d29e37a2_1927_11eb_aa8f_acde48001122row3_col1\" class=\"data row3 col1\" >3844.781804</td>\n",
       "                        <td id=\"T_d29e37a2_1927_11eb_aa8f_acde48001122row3_col2\" class=\"data row3 col2\" >5575.055170</td>\n",
       "                        <td id=\"T_d29e37a2_1927_11eb_aa8f_acde48001122row3_col3\" class=\"data row3 col3\" >1436.782934</td>\n",
       "            </tr>\n",
       "            <tr>\n",
       "                        <th id=\"T_d29e37a2_1927_11eb_aa8f_acde48001122level0_row4\" class=\"row_heading level0 row4\" >Score Classifier</th>\n",
       "                        <td id=\"T_d29e37a2_1927_11eb_aa8f_acde48001122row4_col0\" class=\"data row4 col0\" >0.847176</td>\n",
       "                        <td id=\"T_d29e37a2_1927_11eb_aa8f_acde48001122row4_col1\" class=\"data row4 col1\" >0.853821</td>\n",
       "                        <td id=\"T_d29e37a2_1927_11eb_aa8f_acde48001122row4_col2\" class=\"data row4 col2\" >0.992248</td>\n",
       "                        <td id=\"T_d29e37a2_1927_11eb_aa8f_acde48001122row4_col3\" class=\"data row4 col3\" >0.945736</td>\n",
       "            </tr>\n",
       "    </tbody></table>"
      ],
      "text/plain": [
       "<pandas.io.formats.style.Styler at 0x7fc2b6449b90>"
      ]
     },
     "execution_count": 19,
     "metadata": {},
     "output_type": "execute_result"
    }
   ],
   "source": [
    "train_df = training_models(x=x_train, y=y_train, models=models_list, col_name=models_name)\n",
    "test_df = training_models(x=x_test, y=y_test, models=models_list, col_name=models_name)\n",
    "highlight_bests_metrics(train_df)"
   ]
  },
  {
   "cell_type": "code",
   "execution_count": 20,
   "metadata": {},
   "outputs": [
    {
     "data": {
      "text/html": [
       "<style  type=\"text/css\" >\n",
       "#T_d2a2ca4c_1927_11eb_aa8f_acde48001122row0_col1,#T_d2a2ca4c_1927_11eb_aa8f_acde48001122row1_col1,#T_d2a2ca4c_1927_11eb_aa8f_acde48001122row2_col0,#T_d2a2ca4c_1927_11eb_aa8f_acde48001122row3_col1,#T_d2a2ca4c_1927_11eb_aa8f_acde48001122row4_col1{\n",
       "            background-color:  darkorange;\n",
       "        }</style><table id=\"T_d2a2ca4c_1927_11eb_aa8f_acde48001122\" ><thead>    <tr>        <th class=\"blank level0\" ></th>        <th class=\"col_heading level0 col0\" >Train</th>        <th class=\"col_heading level0 col1\" >Test</th>    </tr>    <tr>        <th class=\"index_name level0\" >RF regressor</th>        <th class=\"blank\" ></th>        <th class=\"blank\" ></th>    </tr></thead><tbody>\n",
       "                <tr>\n",
       "                        <th id=\"T_d2a2ca4c_1927_11eb_aa8f_acde48001122level0_row0\" class=\"row_heading level0 row0\" >MAE</th>\n",
       "                        <td id=\"T_d2a2ca4c_1927_11eb_aa8f_acde48001122row0_col0\" class=\"data row0 col0\" >669.209503</td>\n",
       "                        <td id=\"T_d2a2ca4c_1927_11eb_aa8f_acde48001122row0_col1\" class=\"data row0 col1\" >507.158500</td>\n",
       "            </tr>\n",
       "            <tr>\n",
       "                        <th id=\"T_d2a2ca4c_1927_11eb_aa8f_acde48001122level0_row1\" class=\"row_heading level0 row1\" >MSE</th>\n",
       "                        <td id=\"T_d2a2ca4c_1927_11eb_aa8f_acde48001122row1_col0\" class=\"data row1 col0\" >2064345.200318</td>\n",
       "                        <td id=\"T_d2a2ca4c_1927_11eb_aa8f_acde48001122row1_col1\" class=\"data row1 col1\" >1375212.304778</td>\n",
       "            </tr>\n",
       "            <tr>\n",
       "                        <th id=\"T_d2a2ca4c_1927_11eb_aa8f_acde48001122level0_row2\" class=\"row_heading level0 row2\" >R2</th>\n",
       "                        <td id=\"T_d2a2ca4c_1927_11eb_aa8f_acde48001122row2_col0\" class=\"data row2 col0\" >0.923770</td>\n",
       "                        <td id=\"T_d2a2ca4c_1927_11eb_aa8f_acde48001122row2_col1\" class=\"data row2 col1\" >0.918453</td>\n",
       "            </tr>\n",
       "            <tr>\n",
       "                        <th id=\"T_d2a2ca4c_1927_11eb_aa8f_acde48001122level0_row3\" class=\"row_heading level0 row3\" >RMSE</th>\n",
       "                        <td id=\"T_d2a2ca4c_1927_11eb_aa8f_acde48001122row3_col0\" class=\"data row3 col0\" >1436.782934</td>\n",
       "                        <td id=\"T_d2a2ca4c_1927_11eb_aa8f_acde48001122row3_col1\" class=\"data row3 col1\" >1172.694464</td>\n",
       "            </tr>\n",
       "            <tr>\n",
       "                        <th id=\"T_d2a2ca4c_1927_11eb_aa8f_acde48001122level0_row4\" class=\"row_heading level0 row4\" >Score Classifier</th>\n",
       "                        <td id=\"T_d2a2ca4c_1927_11eb_aa8f_acde48001122row4_col0\" class=\"data row4 col0\" >0.945736</td>\n",
       "                        <td id=\"T_d2a2ca4c_1927_11eb_aa8f_acde48001122row4_col1\" class=\"data row4 col1\" >0.951031</td>\n",
       "            </tr>\n",
       "    </tbody></table>"
      ],
      "text/plain": [
       "<pandas.io.formats.style.Styler at 0x7fc2cebef6d0>"
      ]
     },
     "execution_count": 20,
     "metadata": {},
     "output_type": "execute_result"
    }
   ],
   "source": [
    "train_test_df(df_1=train_df, df_2=test_df, column='RF regressor')"
   ]
  },
  {
   "cell_type": "markdown",
   "metadata": {},
   "source": [
    "## MSE of target variables per vegetables"
   ]
  },
  {
   "cell_type": "code",
   "execution_count": 50,
   "metadata": {},
   "outputs": [],
   "source": [
    "def mse_per_vegetables(df, vegetables, model, col_index=0):\n",
    "    vegetable_dict = dict()\n",
    "    for veg in vegetables:\n",
    "        x = df[df[veg]==1].iloc[:,3:].values\n",
    "        y = df[df[veg]==1].iloc[:,col_index].values\n",
    "\n",
    "        y_pred = model.predict(x)\n",
    "        vegetable_dict[veg] = metrics.mean_squared_error(y, y_pred)\n",
    "    return vegetable_dict"
   ]
  },
  {
   "cell_type": "code",
   "execution_count": 51,
   "metadata": {},
   "outputs": [
    {
     "ename": "ValueError",
     "evalue": "X.shape[1] = 17 should be equal to 11, the number of features at training time",
     "output_type": "error",
     "traceback": [
      "\u001b[0;31m---------------------------------------------------------------------------\u001b[0m",
      "\u001b[0;31mValueError\u001b[0m                                Traceback (most recent call last)",
      "\u001b[0;32m<ipython-input-51-89f1b4391301>\u001b[0m in \u001b[0;36m<module>\u001b[0;34m\u001b[0m\n\u001b[0;32m----> 1\u001b[0;31m \u001b[0mmse_per_veg_df\u001b[0m \u001b[0;34m=\u001b[0m \u001b[0mpd\u001b[0m\u001b[0;34m.\u001b[0m\u001b[0mDataFrame\u001b[0m\u001b[0;34m.\u001b[0m\u001b[0mfrom_dict\u001b[0m\u001b[0;34m(\u001b[0m\u001b[0mmse_per_vegetables\u001b[0m\u001b[0;34m(\u001b[0m\u001b[0mdf\u001b[0m\u001b[0;34m=\u001b[0m\u001b[0mdf_ohe\u001b[0m\u001b[0;34m,\u001b[0m \u001b[0mvegetables\u001b[0m\u001b[0;34m=\u001b[0m\u001b[0mvegetables\u001b[0m\u001b[0;34m,\u001b[0m\u001b[0mmodel\u001b[0m\u001b[0;34m=\u001b[0m\u001b[0msvr_rbf\u001b[0m\u001b[0;34m,\u001b[0m \u001b[0mcol_index\u001b[0m\u001b[0;34m=\u001b[0m\u001b[0;36m0\u001b[0m\u001b[0;34m)\u001b[0m\u001b[0;34m,\u001b[0m \u001b[0morient\u001b[0m\u001b[0;34m=\u001b[0m\u001b[0;34m\"index\"\u001b[0m\u001b[0;34m)\u001b[0m\u001b[0;34m\u001b[0m\u001b[0;34m\u001b[0m\u001b[0m\n\u001b[0m\u001b[1;32m      2\u001b[0m \u001b[0mmse_per_veg_df\u001b[0m\u001b[0;34m.\u001b[0m\u001b[0mcolumns\u001b[0m\u001b[0;34m=\u001b[0m\u001b[0;34m[\u001b[0m\u001b[0;34m\"MSE\"\u001b[0m\u001b[0;34m]\u001b[0m\u001b[0;34m\u001b[0m\u001b[0;34m\u001b[0m\u001b[0m\n\u001b[1;32m      3\u001b[0m \u001b[0mmse_per_veg_df\u001b[0m\u001b[0;34m.\u001b[0m\u001b[0mplot\u001b[0m\u001b[0;34m(\u001b[0m\u001b[0mkind\u001b[0m\u001b[0;34m=\u001b[0m\u001b[0;34m\"bar\"\u001b[0m\u001b[0;34m,\u001b[0m \u001b[0mfigsize\u001b[0m\u001b[0;34m=\u001b[0m\u001b[0;34m(\u001b[0m\u001b[0;36m14\u001b[0m\u001b[0;34m,\u001b[0m\u001b[0;36m6\u001b[0m\u001b[0;34m)\u001b[0m\u001b[0;34m)\u001b[0m\u001b[0;34m\u001b[0m\u001b[0;34m\u001b[0m\u001b[0m\n\u001b[1;32m      4\u001b[0m \u001b[0mplt\u001b[0m\u001b[0;34m.\u001b[0m\u001b[0mxlabel\u001b[0m\u001b[0;34m(\u001b[0m\u001b[0;34m'Vegetables'\u001b[0m\u001b[0;34m,\u001b[0m \u001b[0mfontsize\u001b[0m\u001b[0;34m=\u001b[0m\u001b[0;36m14\u001b[0m\u001b[0;34m)\u001b[0m\u001b[0;34m\u001b[0m\u001b[0;34m\u001b[0m\u001b[0m\n\u001b[1;32m      5\u001b[0m \u001b[0mplt\u001b[0m\u001b[0;34m.\u001b[0m\u001b[0mylabel\u001b[0m\u001b[0;34m(\u001b[0m\u001b[0;34m'Brix'\u001b[0m\u001b[0;34m,\u001b[0m \u001b[0mfontsize\u001b[0m\u001b[0;34m=\u001b[0m\u001b[0;36m14\u001b[0m\u001b[0;34m)\u001b[0m\u001b[0;34m\u001b[0m\u001b[0;34m\u001b[0m\u001b[0m\n",
      "\u001b[0;32m<ipython-input-50-0d56f7c4e852>\u001b[0m in \u001b[0;36mmse_per_vegetables\u001b[0;34m(df, vegetables, model, col_index)\u001b[0m\n\u001b[1;32m      5\u001b[0m         \u001b[0my\u001b[0m \u001b[0;34m=\u001b[0m \u001b[0mdf\u001b[0m\u001b[0;34m[\u001b[0m\u001b[0mdf\u001b[0m\u001b[0;34m[\u001b[0m\u001b[0mveg\u001b[0m\u001b[0;34m]\u001b[0m\u001b[0;34m==\u001b[0m\u001b[0;36m1\u001b[0m\u001b[0;34m]\u001b[0m\u001b[0;34m.\u001b[0m\u001b[0miloc\u001b[0m\u001b[0;34m[\u001b[0m\u001b[0;34m:\u001b[0m\u001b[0;34m,\u001b[0m\u001b[0mcol_index\u001b[0m\u001b[0;34m]\u001b[0m\u001b[0;34m.\u001b[0m\u001b[0mvalues\u001b[0m\u001b[0;34m\u001b[0m\u001b[0;34m\u001b[0m\u001b[0m\n\u001b[1;32m      6\u001b[0m \u001b[0;34m\u001b[0m\u001b[0m\n\u001b[0;32m----> 7\u001b[0;31m         \u001b[0my_pred\u001b[0m \u001b[0;34m=\u001b[0m \u001b[0mmodel\u001b[0m\u001b[0;34m.\u001b[0m\u001b[0mpredict\u001b[0m\u001b[0;34m(\u001b[0m\u001b[0mx\u001b[0m\u001b[0;34m)\u001b[0m\u001b[0;34m\u001b[0m\u001b[0;34m\u001b[0m\u001b[0m\n\u001b[0m\u001b[1;32m      8\u001b[0m         \u001b[0mvegetable_dict\u001b[0m\u001b[0;34m[\u001b[0m\u001b[0mveg\u001b[0m\u001b[0;34m]\u001b[0m \u001b[0;34m=\u001b[0m \u001b[0mmetrics\u001b[0m\u001b[0;34m.\u001b[0m\u001b[0mmean_squared_error\u001b[0m\u001b[0;34m(\u001b[0m\u001b[0my\u001b[0m\u001b[0;34m,\u001b[0m \u001b[0my_pred\u001b[0m\u001b[0;34m)\u001b[0m\u001b[0;34m\u001b[0m\u001b[0;34m\u001b[0m\u001b[0m\n\u001b[1;32m      9\u001b[0m     \u001b[0;32mreturn\u001b[0m \u001b[0mvegetable_dict\u001b[0m\u001b[0;34m\u001b[0m\u001b[0;34m\u001b[0m\u001b[0m\n",
      "\u001b[0;32m~/opt/anaconda3/lib/python3.7/site-packages/sklearn/svm/_base.py\u001b[0m in \u001b[0;36mpredict\u001b[0;34m(self, X)\u001b[0m\n\u001b[1;32m    331\u001b[0m         \u001b[0my_pred\u001b[0m \u001b[0;34m:\u001b[0m \u001b[0mndarray\u001b[0m \u001b[0mof\u001b[0m \u001b[0mshape\u001b[0m \u001b[0;34m(\u001b[0m\u001b[0mn_samples\u001b[0m\u001b[0;34m,\u001b[0m\u001b[0;34m)\u001b[0m\u001b[0;34m\u001b[0m\u001b[0;34m\u001b[0m\u001b[0m\n\u001b[1;32m    332\u001b[0m         \"\"\"\n\u001b[0;32m--> 333\u001b[0;31m         \u001b[0mX\u001b[0m \u001b[0;34m=\u001b[0m \u001b[0mself\u001b[0m\u001b[0;34m.\u001b[0m\u001b[0m_validate_for_predict\u001b[0m\u001b[0;34m(\u001b[0m\u001b[0mX\u001b[0m\u001b[0;34m)\u001b[0m\u001b[0;34m\u001b[0m\u001b[0;34m\u001b[0m\u001b[0m\n\u001b[0m\u001b[1;32m    334\u001b[0m         \u001b[0mpredict\u001b[0m \u001b[0;34m=\u001b[0m \u001b[0mself\u001b[0m\u001b[0;34m.\u001b[0m\u001b[0m_sparse_predict\u001b[0m \u001b[0;32mif\u001b[0m \u001b[0mself\u001b[0m\u001b[0;34m.\u001b[0m\u001b[0m_sparse\u001b[0m \u001b[0;32melse\u001b[0m \u001b[0mself\u001b[0m\u001b[0;34m.\u001b[0m\u001b[0m_dense_predict\u001b[0m\u001b[0;34m\u001b[0m\u001b[0;34m\u001b[0m\u001b[0m\n\u001b[1;32m    335\u001b[0m         \u001b[0;32mreturn\u001b[0m \u001b[0mpredict\u001b[0m\u001b[0;34m(\u001b[0m\u001b[0mX\u001b[0m\u001b[0;34m)\u001b[0m\u001b[0;34m\u001b[0m\u001b[0;34m\u001b[0m\u001b[0m\n",
      "\u001b[0;32m~/opt/anaconda3/lib/python3.7/site-packages/sklearn/svm/_base.py\u001b[0m in \u001b[0;36m_validate_for_predict\u001b[0;34m(self, X)\u001b[0m\n\u001b[1;32m    484\u001b[0m             raise ValueError(\"X.shape[1] = %d should be equal to %d, \"\n\u001b[1;32m    485\u001b[0m                              \u001b[0;34m\"the number of features at training time\"\u001b[0m \u001b[0;34m%\u001b[0m\u001b[0;34m\u001b[0m\u001b[0;34m\u001b[0m\u001b[0m\n\u001b[0;32m--> 486\u001b[0;31m                              (X.shape[1], self.shape_fit_[1]))\n\u001b[0m\u001b[1;32m    487\u001b[0m         \u001b[0;32mreturn\u001b[0m \u001b[0mX\u001b[0m\u001b[0;34m\u001b[0m\u001b[0;34m\u001b[0m\u001b[0m\n\u001b[1;32m    488\u001b[0m \u001b[0;34m\u001b[0m\u001b[0m\n",
      "\u001b[0;31mValueError\u001b[0m: X.shape[1] = 17 should be equal to 11, the number of features at training time"
     ]
    }
   ],
   "source": [
    "mse_per_veg_df = pd.DataFrame.from_dict(mse_per_vegetables(df=df_ohe, vegetables=vegetables,model=svr_rbf, col_index=0), orient=\"index\")\n",
    "mse_per_veg_df.columns=[\"MSE\"]\n",
    "mse_per_veg_df.plot(kind=\"bar\", figsize=(14,6))\n",
    "plt.xlabel('Vegetables', fontsize=14)\n",
    "plt.ylabel('Brix', fontsize=14)\n",
    "plt.title('MSE of Brix per vegetables with SVR RBF', fontsize=16, fontweight=\"bold\")\n",
    "plt.show()"
   ]
  },
  {
   "cell_type": "code",
   "execution_count": 23,
   "metadata": {},
   "outputs": [
    {
     "data": {
      "image/png": "[encoded data removed]",
      "text/plain": [
       "<Figure size 1008x432 with 1 Axes>"
      ]
     },
     "metadata": {
      "needs_background": "light"
     },
     "output_type": "display_data"
    }
   ],
   "source": [
    "mse_per_veg_df = pd.DataFrame.from_dict(mse_per_vegetables(df=df_ohe, vegetables=vegetables,model=svr_rbf, col_index=1), orient=\"index\")\n",
    "mse_per_veg_df.columns=[\"MSE\"]\n",
    "mse_per_veg_df.plot(kind=\"bar\", figsize=(14,6))\n",
    "plt.xlabel('Vegetables', fontsize=14)\n",
    "plt.ylabel('Polyphenols', fontsize=14)\n",
    "plt.title('MSE of Polyphenols per vegetables with SVR RBF', fontsize=16, fontweight=\"bold\")\n",
    "plt.show()"
   ]
  },
  {
   "cell_type": "code",
   "execution_count": 24,
   "metadata": {},
   "outputs": [
    {
     "data": {
      "image/png": "[encoded data removed]",
      "text/plain": [
       "<Figure size 1008x432 with 1 Axes>"
      ]
     },
     "metadata": {
      "needs_background": "light"
     },
     "output_type": "display_data"
    }
   ],
   "source": [
    "mse_per_veg_df = pd.DataFrame.from_dict(mse_per_vegetables(df=df_ohe, vegetables=vegetables,model=svr_rbf, col_index=2), orient=\"index\")\n",
    "mse_per_veg_df.columns=[\"MSE\"]\n",
    "mse_per_veg_df.plot(kind=\"bar\", figsize=(14,6))\n",
    "plt.xlabel('Vegetables', fontsize=14)\n",
    "plt.ylabel('Antioxidants', fontsize=14)\n",
    "plt.title('MSE of Antioxidants per vegetables with SVR RBF', fontsize=16, fontweight=\"bold\")\n",
    "plt.show()"
   ]
  },
  {
   "cell_type": "markdown",
   "metadata": {},
   "source": [
    "## Distribution of the target variables per vegetable"
   ]
  },
  {
   "cell_type": "code",
   "execution_count": 25,
   "metadata": {},
   "outputs": [],
   "source": [
    "def test_dist_func(df, vegetables, target, title, xlabel, ylabel, figsize=(14,6)):\n",
    "    fig = plt.figure(figsize=figsize)\n",
    "    for veg in vegetables:\n",
    "        sns.displot(df[df['Type']==veg][target].dropna(), hist=True, kde=False, bins=35, label=veg)\n",
    "        plt.title(title, fontsize=16, fontweight=\"bold\")\n",
    "        plt.xlabel(target, fontsize=14)\n",
    "        plt.ylabel(\"Counts\", fontsize=14)\n",
    "        plt.legend()"
   ]
  },
  {
   "cell_type": "code",
   "execution_count": 26,
   "metadata": {},
   "outputs": [],
   "source": [
    "#test_dist_func(df=df, vegetables=vegetables, target=\"Polyphenols\", title=\"\", xlabel=\"\", ylabel=\"\")"
   ]
  },
  {
   "cell_type": "code",
   "execution_count": 27,
   "metadata": {},
   "outputs": [
    {
     "data": {
      "image/png": "[encoded data removed]",
      "text/plain": [
       "<Figure size 1296x576 with 1 Axes>"
      ]
     },
     "metadata": {
      "needs_background": "light"
     },
     "output_type": "display_data"
    }
   ],
   "source": [
    "plt.figure(figsize=(18,8))\n",
    "for veg in vegetables:\n",
    "    sns.distplot(df[df[\"Type\"]==veg][\"Brix\"].dropna(), hist=True, kde=False, bins=35, label=veg)\n",
    "    plt.title(\"Distribution of Brix for each vegetable\", fontsize=16, fontweight=\"bold\")\n",
    "    plt.xlabel(\"Brix\", fontsize=14)\n",
    "    plt.ylabel(\"Counts\", fontsize=14)\n",
    "    plt.legend()"
   ]
  },
  {
   "cell_type": "code",
   "execution_count": 28,
   "metadata": {},
   "outputs": [
    {
     "data": {
      "image/png": "[encoded data removed]",
      "text/plain": [
       "<Figure size 1296x576 with 1 Axes>"
      ]
     },
     "metadata": {
      "needs_background": "light"
     },
     "output_type": "display_data"
    }
   ],
   "source": [
    "plt.figure(figsize=(18,8))\n",
    "for veg in vegetables:\n",
    "    sns.distplot(df[df[\"Type\"]==veg][\"Polyphenols\"].dropna(), hist=True, kde=False, bins=35, label=veg)\n",
    "    plt.title(\"Distribution of Polyphenols for each vegetable\", fontsize=16, fontweight=\"bold\")\n",
    "    plt.xlabel(\"Polyphenols\", fontsize=14)\n",
    "    plt.ylabel(\"Counts\", fontsize=14)\n",
    "    plt.legend()"
   ]
  },
  {
   "cell_type": "code",
   "execution_count": 29,
   "metadata": {},
   "outputs": [
    {
     "data": {
      "image/png": "[encoded data removed]",
      "text/plain": [
       "<Figure size 1296x576 with 1 Axes>"
      ]
     },
     "metadata": {
      "needs_background": "light"
     },
     "output_type": "display_data"
    }
   ],
   "source": [
    "plt.figure(figsize=(18,8))\n",
    "for veg in vegetables:\n",
    "    sns.distplot(df[df[\"Type\"]==veg][\"Antioxidants\"].dropna(), hist=True, kde=False, bins=35, label=veg)\n",
    "    plt.title(\"Distribution of Antioxidants for each vegetable\", fontsize=16, fontweight=\"bold\")\n",
    "    plt.xlabel(\"Antioxidants\", fontsize=14)\n",
    "    plt.ylabel(\"Counts\", fontsize=14)\n",
    "    plt.legend()"
   ]
  },
  {
   "cell_type": "markdown",
   "metadata": {},
   "source": [
    "## TEST"
   ]
  },
  {
   "cell_type": "markdown",
   "metadata": {},
   "source": [
    "- #### Columns: Surface Scans\n",
    "- #### Type: Kale\n",
    "- #### Target: Brix"
   ]
  },
  {
   "cell_type": "code",
   "execution_count": 30,
   "metadata": {},
   "outputs": [],
   "source": [
    "x, y = extract_x_y(df=df_ohe.filter(regex=\"Brix|Polyphenols|Antioxidants|Surface|kale\", axis=1), target=target_variables, col_index=0)\n",
    "x_train, x_test, y_train, y_test = train_test_split(x, y, test_size=0.30, random_state=42)"
   ]
  },
  {
   "cell_type": "code",
   "execution_count": 31,
   "metadata": {},
   "outputs": [
    {
     "name": "stdout",
     "output_type": "stream",
     "text": [
      "x_train (903, 11)\n",
      "x_test (388, 11)\n",
      "y_train (903,)\n",
      "y_test (388,)\n"
     ]
    }
   ],
   "source": [
    "print(\"x_train\", x_train.shape)\n",
    "print(\"x_test\", x_test.shape)\n",
    "print(\"y_train\", y_train.shape)\n",
    "print(\"y_test\", y_test.shape)"
   ]
  },
  {
   "cell_type": "code",
   "execution_count": 32,
   "metadata": {},
   "outputs": [
    {
     "data": {
      "text/html": [
       "<style  type=\"text/css\" >\n",
       "#T_da6b643c_1927_11eb_aa8f_acde48001122row0_col2,#T_da6b643c_1927_11eb_aa8f_acde48001122row1_col2,#T_da6b643c_1927_11eb_aa8f_acde48001122row2_col2,#T_da6b643c_1927_11eb_aa8f_acde48001122row3_col2,#T_da6b643c_1927_11eb_aa8f_acde48001122row4_col2{\n",
       "            background-color:  darkorange;\n",
       "        }</style><table id=\"T_da6b643c_1927_11eb_aa8f_acde48001122\" ><thead>    <tr>        <th class=\"blank level0\" ></th>        <th class=\"col_heading level0 col0\" >Linear regression</th>        <th class=\"col_heading level0 col1\" >Partial least squares</th>        <th class=\"col_heading level0 col2\" >SVR RBF</th>        <th class=\"col_heading level0 col3\" >RF regressor</th>    </tr></thead><tbody>\n",
       "                <tr>\n",
       "                        <th id=\"T_da6b643c_1927_11eb_aa8f_acde48001122level0_row0\" class=\"row_heading level0 row0\" >MAE</th>\n",
       "                        <td id=\"T_da6b643c_1927_11eb_aa8f_acde48001122row0_col0\" class=\"data row0 col0\" >2.193768</td>\n",
       "                        <td id=\"T_da6b643c_1927_11eb_aa8f_acde48001122row0_col1\" class=\"data row0 col1\" >2.184827</td>\n",
       "                        <td id=\"T_da6b643c_1927_11eb_aa8f_acde48001122row0_col2\" class=\"data row0 col2\" >0.183259</td>\n",
       "                        <td id=\"T_da6b643c_1927_11eb_aa8f_acde48001122row0_col3\" class=\"data row0 col3\" >0.619283</td>\n",
       "            </tr>\n",
       "            <tr>\n",
       "                        <th id=\"T_da6b643c_1927_11eb_aa8f_acde48001122level0_row1\" class=\"row_heading level0 row1\" >MSE</th>\n",
       "                        <td id=\"T_da6b643c_1927_11eb_aa8f_acde48001122row1_col0\" class=\"data row1 col0\" >9.401707</td>\n",
       "                        <td id=\"T_da6b643c_1927_11eb_aa8f_acde48001122row1_col1\" class=\"data row1 col1\" >9.874291</td>\n",
       "                        <td id=\"T_da6b643c_1927_11eb_aa8f_acde48001122row1_col2\" class=\"data row1 col2\" >0.330728</td>\n",
       "                        <td id=\"T_da6b643c_1927_11eb_aa8f_acde48001122row1_col3\" class=\"data row1 col3\" >0.789618</td>\n",
       "            </tr>\n",
       "            <tr>\n",
       "                        <th id=\"T_da6b643c_1927_11eb_aa8f_acde48001122level0_row2\" class=\"row_heading level0 row2\" >R2</th>\n",
       "                        <td id=\"T_da6b643c_1927_11eb_aa8f_acde48001122row2_col0\" class=\"data row2 col0\" >0.325580</td>\n",
       "                        <td id=\"T_da6b643c_1927_11eb_aa8f_acde48001122row2_col1\" class=\"data row2 col1\" >0.291680</td>\n",
       "                        <td id=\"T_da6b643c_1927_11eb_aa8f_acde48001122row2_col2\" class=\"data row2 col2\" >0.976276</td>\n",
       "                        <td id=\"T_da6b643c_1927_11eb_aa8f_acde48001122row2_col3\" class=\"data row2 col3\" >0.943358</td>\n",
       "            </tr>\n",
       "            <tr>\n",
       "                        <th id=\"T_da6b643c_1927_11eb_aa8f_acde48001122level0_row3\" class=\"row_heading level0 row3\" >RMSE</th>\n",
       "                        <td id=\"T_da6b643c_1927_11eb_aa8f_acde48001122row3_col0\" class=\"data row3 col0\" >3.066220</td>\n",
       "                        <td id=\"T_da6b643c_1927_11eb_aa8f_acde48001122row3_col1\" class=\"data row3 col1\" >3.142338</td>\n",
       "                        <td id=\"T_da6b643c_1927_11eb_aa8f_acde48001122row3_col2\" class=\"data row3 col2\" >0.575089</td>\n",
       "                        <td id=\"T_da6b643c_1927_11eb_aa8f_acde48001122row3_col3\" class=\"data row3 col3\" >0.888604</td>\n",
       "            </tr>\n",
       "            <tr>\n",
       "                        <th id=\"T_da6b643c_1927_11eb_aa8f_acde48001122level0_row4\" class=\"row_heading level0 row4\" >Score Classifier</th>\n",
       "                        <td id=\"T_da6b643c_1927_11eb_aa8f_acde48001122row4_col0\" class=\"data row4 col0\" >0.740864</td>\n",
       "                        <td id=\"T_da6b643c_1927_11eb_aa8f_acde48001122row4_col1\" class=\"data row4 col1\" >0.751938</td>\n",
       "                        <td id=\"T_da6b643c_1927_11eb_aa8f_acde48001122row4_col2\" class=\"data row4 col2\" >0.986711</td>\n",
       "                        <td id=\"T_da6b643c_1927_11eb_aa8f_acde48001122row4_col3\" class=\"data row4 col3\" >0.922481</td>\n",
       "            </tr>\n",
       "    </tbody></table>"
      ],
      "text/plain": [
       "<pandas.io.formats.style.Styler at 0x7fc2ca4162d0>"
      ]
     },
     "execution_count": 32,
     "metadata": {},
     "output_type": "execute_result"
    }
   ],
   "source": [
    "train_df = training_models(x=x_train, y=y_train, models=models_list, col_name=models_name)\n",
    "test_df = training_models(x=x_test, y=y_test, models=models_list, col_name=models_name)\n",
    "highlight_bests_metrics(train_df)"
   ]
  },
  {
   "cell_type": "code",
   "execution_count": 33,
   "metadata": {},
   "outputs": [
    {
     "data": {
      "text/html": [
       "<style  type=\"text/css\" >\n",
       "#T_da7075da_1927_11eb_aa8f_acde48001122row0_col1,#T_da7075da_1927_11eb_aa8f_acde48001122row1_col1,#T_da7075da_1927_11eb_aa8f_acde48001122row2_col1,#T_da7075da_1927_11eb_aa8f_acde48001122row3_col1,#T_da7075da_1927_11eb_aa8f_acde48001122row4_col1{\n",
       "            background-color:  darkorange;\n",
       "        }</style><table id=\"T_da7075da_1927_11eb_aa8f_acde48001122\" ><thead>    <tr>        <th class=\"blank level0\" ></th>        <th class=\"col_heading level0 col0\" >Train</th>        <th class=\"col_heading level0 col1\" >Test</th>    </tr>    <tr>        <th class=\"index_name level0\" >SVR RBF</th>        <th class=\"blank\" ></th>        <th class=\"blank\" ></th>    </tr></thead><tbody>\n",
       "                <tr>\n",
       "                        <th id=\"T_da7075da_1927_11eb_aa8f_acde48001122level0_row0\" class=\"row_heading level0 row0\" >MAE</th>\n",
       "                        <td id=\"T_da7075da_1927_11eb_aa8f_acde48001122row0_col0\" class=\"data row0 col0\" >0.183259</td>\n",
       "                        <td id=\"T_da7075da_1927_11eb_aa8f_acde48001122row0_col1\" class=\"data row0 col1\" >0.147691</td>\n",
       "            </tr>\n",
       "            <tr>\n",
       "                        <th id=\"T_da7075da_1927_11eb_aa8f_acde48001122level0_row1\" class=\"row_heading level0 row1\" >MSE</th>\n",
       "                        <td id=\"T_da7075da_1927_11eb_aa8f_acde48001122row1_col0\" class=\"data row1 col0\" >0.330728</td>\n",
       "                        <td id=\"T_da7075da_1927_11eb_aa8f_acde48001122row1_col1\" class=\"data row1 col1\" >0.152187</td>\n",
       "            </tr>\n",
       "            <tr>\n",
       "                        <th id=\"T_da7075da_1927_11eb_aa8f_acde48001122level0_row2\" class=\"row_heading level0 row2\" >R2</th>\n",
       "                        <td id=\"T_da7075da_1927_11eb_aa8f_acde48001122row2_col0\" class=\"data row2 col0\" >0.976276</td>\n",
       "                        <td id=\"T_da7075da_1927_11eb_aa8f_acde48001122row2_col1\" class=\"data row2 col1\" >0.986119</td>\n",
       "            </tr>\n",
       "            <tr>\n",
       "                        <th id=\"T_da7075da_1927_11eb_aa8f_acde48001122level0_row3\" class=\"row_heading level0 row3\" >RMSE</th>\n",
       "                        <td id=\"T_da7075da_1927_11eb_aa8f_acde48001122row3_col0\" class=\"data row3 col0\" >0.575089</td>\n",
       "                        <td id=\"T_da7075da_1927_11eb_aa8f_acde48001122row3_col1\" class=\"data row3 col1\" >0.390112</td>\n",
       "            </tr>\n",
       "            <tr>\n",
       "                        <th id=\"T_da7075da_1927_11eb_aa8f_acde48001122level0_row4\" class=\"row_heading level0 row4\" >Score Classifier</th>\n",
       "                        <td id=\"T_da7075da_1927_11eb_aa8f_acde48001122row4_col0\" class=\"data row4 col0\" >0.986711</td>\n",
       "                        <td id=\"T_da7075da_1927_11eb_aa8f_acde48001122row4_col1\" class=\"data row4 col1\" >0.992268</td>\n",
       "            </tr>\n",
       "    </tbody></table>"
      ],
      "text/plain": [
       "<pandas.io.formats.style.Styler at 0x7fc2ce4a0050>"
      ]
     },
     "execution_count": 33,
     "metadata": {},
     "output_type": "execute_result"
    }
   ],
   "source": [
    "train_test_df(df_1=train_df, df_2=test_df, column='SVR RBF')"
   ]
  },
  {
   "cell_type": "markdown",
   "metadata": {},
   "source": [
    "- #### Target: Polyphenols"
   ]
  },
  {
   "cell_type": "code",
   "execution_count": 34,
   "metadata": {},
   "outputs": [],
   "source": [
    "x, y = extract_x_y(df=df_ohe.filter(regex=\"Brix|Polyphenols|Antioxidants|Surface|kale\", axis=1), target=target_variables, col_index=1)\n",
    "x_train, x_test, y_train, y_test = train_test_split(x, y, test_size=0.30, random_state=42)"
   ]
  },
  {
   "cell_type": "code",
   "execution_count": 35,
   "metadata": {},
   "outputs": [
    {
     "data": {
      "text/html": [
       "<style  type=\"text/css\" >\n",
       "#T_df7c5a30_1927_11eb_aa8f_acde48001122row0_col3,#T_df7c5a30_1927_11eb_aa8f_acde48001122row1_col3,#T_df7c5a30_1927_11eb_aa8f_acde48001122row2_col3,#T_df7c5a30_1927_11eb_aa8f_acde48001122row3_col3,#T_df7c5a30_1927_11eb_aa8f_acde48001122row4_col2{\n",
       "            background-color:  darkorange;\n",
       "        }</style><table id=\"T_df7c5a30_1927_11eb_aa8f_acde48001122\" ><thead>    <tr>        <th class=\"blank level0\" ></th>        <th class=\"col_heading level0 col0\" >Linear regression</th>        <th class=\"col_heading level0 col1\" >Partial least squares</th>        <th class=\"col_heading level0 col2\" >SVR RBF</th>        <th class=\"col_heading level0 col3\" >RF regressor</th>    </tr></thead><tbody>\n",
       "                <tr>\n",
       "                        <th id=\"T_df7c5a30_1927_11eb_aa8f_acde48001122level0_row0\" class=\"row_heading level0 row0\" >MAE</th>\n",
       "                        <td id=\"T_df7c5a30_1927_11eb_aa8f_acde48001122row0_col0\" class=\"data row0 col0\" >73.766891</td>\n",
       "                        <td id=\"T_df7c5a30_1927_11eb_aa8f_acde48001122row0_col1\" class=\"data row0 col1\" >72.240680</td>\n",
       "                        <td id=\"T_df7c5a30_1927_11eb_aa8f_acde48001122row0_col2\" class=\"data row0 col2\" >87.893462</td>\n",
       "                        <td id=\"T_df7c5a30_1927_11eb_aa8f_acde48001122row0_col3\" class=\"data row0 col3\" >22.267220</td>\n",
       "            </tr>\n",
       "            <tr>\n",
       "                        <th id=\"T_df7c5a30_1927_11eb_aa8f_acde48001122level0_row1\" class=\"row_heading level0 row1\" >MSE</th>\n",
       "                        <td id=\"T_df7c5a30_1927_11eb_aa8f_acde48001122row1_col0\" class=\"data row1 col0\" >14338.131370</td>\n",
       "                        <td id=\"T_df7c5a30_1927_11eb_aa8f_acde48001122row1_col1\" class=\"data row1 col1\" >14718.322638</td>\n",
       "                        <td id=\"T_df7c5a30_1927_11eb_aa8f_acde48001122row1_col2\" class=\"data row1 col2\" >32346.753817</td>\n",
       "                        <td id=\"T_df7c5a30_1927_11eb_aa8f_acde48001122row1_col3\" class=\"data row1 col3\" >1758.831649</td>\n",
       "            </tr>\n",
       "            <tr>\n",
       "                        <th id=\"T_df7c5a30_1927_11eb_aa8f_acde48001122level0_row2\" class=\"row_heading level0 row2\" >R2</th>\n",
       "                        <td id=\"T_df7c5a30_1927_11eb_aa8f_acde48001122row2_col0\" class=\"data row2 col0\" >0.501295</td>\n",
       "                        <td id=\"T_df7c5a30_1927_11eb_aa8f_acde48001122row2_col1\" class=\"data row2 col1\" >0.488072</td>\n",
       "                        <td id=\"T_df7c5a30_1927_11eb_aa8f_acde48001122row2_col2\" class=\"data row2 col2\" >-0.125076</td>\n",
       "                        <td id=\"T_df7c5a30_1927_11eb_aa8f_acde48001122row2_col3\" class=\"data row2 col3\" >0.938825</td>\n",
       "            </tr>\n",
       "            <tr>\n",
       "                        <th id=\"T_df7c5a30_1927_11eb_aa8f_acde48001122level0_row3\" class=\"row_heading level0 row3\" >RMSE</th>\n",
       "                        <td id=\"T_df7c5a30_1927_11eb_aa8f_acde48001122row3_col0\" class=\"data row3 col0\" >119.741937</td>\n",
       "                        <td id=\"T_df7c5a30_1927_11eb_aa8f_acde48001122row3_col1\" class=\"data row3 col1\" >121.319094</td>\n",
       "                        <td id=\"T_df7c5a30_1927_11eb_aa8f_acde48001122row3_col2\" class=\"data row3 col2\" >179.852033</td>\n",
       "                        <td id=\"T_df7c5a30_1927_11eb_aa8f_acde48001122row3_col3\" class=\"data row3 col3\" >41.938427</td>\n",
       "            </tr>\n",
       "            <tr>\n",
       "                        <th id=\"T_df7c5a30_1927_11eb_aa8f_acde48001122level0_row4\" class=\"row_heading level0 row4\" >Score Classifier</th>\n",
       "                        <td id=\"T_df7c5a30_1927_11eb_aa8f_acde48001122row4_col0\" class=\"data row4 col0\" >0.674419</td>\n",
       "                        <td id=\"T_df7c5a30_1927_11eb_aa8f_acde48001122row4_col1\" class=\"data row4 col1\" >0.719823</td>\n",
       "                        <td id=\"T_df7c5a30_1927_11eb_aa8f_acde48001122row4_col2\" class=\"data row4 col2\" >0.996678</td>\n",
       "                        <td id=\"T_df7c5a30_1927_11eb_aa8f_acde48001122row4_col3\" class=\"data row4 col3\" >0.899225</td>\n",
       "            </tr>\n",
       "    </tbody></table>"
      ],
      "text/plain": [
       "<pandas.io.formats.style.Styler at 0x7fc2b8f13e50>"
      ]
     },
     "execution_count": 35,
     "metadata": {},
     "output_type": "execute_result"
    }
   ],
   "source": [
    "train_df = training_models(x=x_train, y=y_train, models=models_list, col_name=models_name)\n",
    "test_df = training_models(x=x_test, y=y_test, models=models_list, col_name=models_name)\n",
    "highlight_bests_metrics(train_df)"
   ]
  },
  {
   "cell_type": "code",
   "execution_count": 36,
   "metadata": {},
   "outputs": [
    {
     "data": {
      "text/html": [
       "<style  type=\"text/css\" >\n",
       "#T_df81d3fc_1927_11eb_aa8f_acde48001122row0_col0,#T_df81d3fc_1927_11eb_aa8f_acde48001122row1_col0,#T_df81d3fc_1927_11eb_aa8f_acde48001122row2_col0,#T_df81d3fc_1927_11eb_aa8f_acde48001122row3_col0,#T_df81d3fc_1927_11eb_aa8f_acde48001122row4_col0{\n",
       "            background-color:  darkorange;\n",
       "        }</style><table id=\"T_df81d3fc_1927_11eb_aa8f_acde48001122\" ><thead>    <tr>        <th class=\"blank level0\" ></th>        <th class=\"col_heading level0 col0\" >Train</th>        <th class=\"col_heading level0 col1\" >Test</th>    </tr>    <tr>        <th class=\"index_name level0\" >RF regressor</th>        <th class=\"blank\" ></th>        <th class=\"blank\" ></th>    </tr></thead><tbody>\n",
       "                <tr>\n",
       "                        <th id=\"T_df81d3fc_1927_11eb_aa8f_acde48001122level0_row0\" class=\"row_heading level0 row0\" >MAE</th>\n",
       "                        <td id=\"T_df81d3fc_1927_11eb_aa8f_acde48001122row0_col0\" class=\"data row0 col0\" >22.267220</td>\n",
       "                        <td id=\"T_df81d3fc_1927_11eb_aa8f_acde48001122row0_col1\" class=\"data row0 col1\" >24.851020</td>\n",
       "            </tr>\n",
       "            <tr>\n",
       "                        <th id=\"T_df81d3fc_1927_11eb_aa8f_acde48001122level0_row1\" class=\"row_heading level0 row1\" >MSE</th>\n",
       "                        <td id=\"T_df81d3fc_1927_11eb_aa8f_acde48001122row1_col0\" class=\"data row1 col0\" >1758.831649</td>\n",
       "                        <td id=\"T_df81d3fc_1927_11eb_aa8f_acde48001122row1_col1\" class=\"data row1 col1\" >2430.345430</td>\n",
       "            </tr>\n",
       "            <tr>\n",
       "                        <th id=\"T_df81d3fc_1927_11eb_aa8f_acde48001122level0_row2\" class=\"row_heading level0 row2\" >R2</th>\n",
       "                        <td id=\"T_df81d3fc_1927_11eb_aa8f_acde48001122row2_col0\" class=\"data row2 col0\" >0.938825</td>\n",
       "                        <td id=\"T_df81d3fc_1927_11eb_aa8f_acde48001122row2_col1\" class=\"data row2 col1\" >0.907153</td>\n",
       "            </tr>\n",
       "            <tr>\n",
       "                        <th id=\"T_df81d3fc_1927_11eb_aa8f_acde48001122level0_row3\" class=\"row_heading level0 row3\" >RMSE</th>\n",
       "                        <td id=\"T_df81d3fc_1927_11eb_aa8f_acde48001122row3_col0\" class=\"data row3 col0\" >41.938427</td>\n",
       "                        <td id=\"T_df81d3fc_1927_11eb_aa8f_acde48001122row3_col1\" class=\"data row3 col1\" >49.298534</td>\n",
       "            </tr>\n",
       "            <tr>\n",
       "                        <th id=\"T_df81d3fc_1927_11eb_aa8f_acde48001122level0_row4\" class=\"row_heading level0 row4\" >Score Classifier</th>\n",
       "                        <td id=\"T_df81d3fc_1927_11eb_aa8f_acde48001122row4_col0\" class=\"data row4 col0\" >0.899225</td>\n",
       "                        <td id=\"T_df81d3fc_1927_11eb_aa8f_acde48001122row4_col1\" class=\"data row4 col1\" >0.889175</td>\n",
       "            </tr>\n",
       "    </tbody></table>"
      ],
      "text/plain": [
       "<pandas.io.formats.style.Styler at 0x7fc2b8f23d90>"
      ]
     },
     "execution_count": 36,
     "metadata": {},
     "output_type": "execute_result"
    }
   ],
   "source": [
    "train_test_df(df_1=train_df, df_2=test_df, column='RF regressor')"
   ]
  },
  {
   "cell_type": "markdown",
   "metadata": {},
   "source": [
    "- #### Target: Antioxidants"
   ]
  },
  {
   "cell_type": "code",
   "execution_count": 37,
   "metadata": {},
   "outputs": [],
   "source": [
    "x, y = extract_x_y(df=df_ohe.filter(regex=\"Brix|Polyphenols|Antioxidants|Surface|kale\", axis=1), target=target_variables, col_index=2)\n",
    "x_train, x_test, y_train, y_test = train_test_split(x, y, test_size=0.30, random_state=42)"
   ]
  },
  {
   "cell_type": "code",
   "execution_count": 38,
   "metadata": {},
   "outputs": [
    {
     "data": {
      "text/html": [
       "<style  type=\"text/css\" >\n",
       "#T_e4e6e558_1927_11eb_aa8f_acde48001122row0_col3,#T_e4e6e558_1927_11eb_aa8f_acde48001122row1_col3,#T_e4e6e558_1927_11eb_aa8f_acde48001122row2_col3,#T_e4e6e558_1927_11eb_aa8f_acde48001122row3_col3,#T_e4e6e558_1927_11eb_aa8f_acde48001122row4_col2{\n",
       "            background-color:  darkorange;\n",
       "        }</style><table id=\"T_e4e6e558_1927_11eb_aa8f_acde48001122\" ><thead>    <tr>        <th class=\"blank level0\" ></th>        <th class=\"col_heading level0 col0\" >Linear regression</th>        <th class=\"col_heading level0 col1\" >Partial least squares</th>        <th class=\"col_heading level0 col2\" >SVR RBF</th>        <th class=\"col_heading level0 col3\" >RF regressor</th>    </tr></thead><tbody>\n",
       "                <tr>\n",
       "                        <th id=\"T_e4e6e558_1927_11eb_aa8f_acde48001122level0_row0\" class=\"row_heading level0 row0\" >MAE</th>\n",
       "                        <td id=\"T_e4e6e558_1927_11eb_aa8f_acde48001122row0_col0\" class=\"data row0 col0\" >1973.161058</td>\n",
       "                        <td id=\"T_e4e6e558_1927_11eb_aa8f_acde48001122row0_col1\" class=\"data row0 col1\" >1903.584667</td>\n",
       "                        <td id=\"T_e4e6e558_1927_11eb_aa8f_acde48001122row0_col2\" class=\"data row0 col2\" >2445.292948</td>\n",
       "                        <td id=\"T_e4e6e558_1927_11eb_aa8f_acde48001122row0_col3\" class=\"data row0 col3\" >667.199768</td>\n",
       "            </tr>\n",
       "            <tr>\n",
       "                        <th id=\"T_e4e6e558_1927_11eb_aa8f_acde48001122level0_row1\" class=\"row_heading level0 row1\" >MSE</th>\n",
       "                        <td id=\"T_e4e6e558_1927_11eb_aa8f_acde48001122row1_col0\" class=\"data row1 col0\" >14977097.611180</td>\n",
       "                        <td id=\"T_e4e6e558_1927_11eb_aa8f_acde48001122row1_col1\" class=\"data row1 col1\" >15084255.641178</td>\n",
       "                        <td id=\"T_e4e6e558_1927_11eb_aa8f_acde48001122row1_col2\" class=\"data row1 col2\" >31090143.184273</td>\n",
       "                        <td id=\"T_e4e6e558_1927_11eb_aa8f_acde48001122row1_col3\" class=\"data row1 col3\" >2055437.461806</td>\n",
       "            </tr>\n",
       "            <tr>\n",
       "                        <th id=\"T_e4e6e558_1927_11eb_aa8f_acde48001122level0_row2\" class=\"row_heading level0 row2\" >R2</th>\n",
       "                        <td id=\"T_e4e6e558_1927_11eb_aa8f_acde48001122row2_col0\" class=\"data row2 col0\" >0.446939</td>\n",
       "                        <td id=\"T_e4e6e558_1927_11eb_aa8f_acde48001122row2_col1\" class=\"data row2 col1\" >0.442982</td>\n",
       "                        <td id=\"T_e4e6e558_1927_11eb_aa8f_acde48001122row2_col2\" class=\"data row2 col2\" >-0.148070</td>\n",
       "                        <td id=\"T_e4e6e558_1927_11eb_aa8f_acde48001122row2_col3\" class=\"data row2 col3\" >0.924099</td>\n",
       "            </tr>\n",
       "            <tr>\n",
       "                        <th id=\"T_e4e6e558_1927_11eb_aa8f_acde48001122level0_row3\" class=\"row_heading level0 row3\" >RMSE</th>\n",
       "                        <td id=\"T_e4e6e558_1927_11eb_aa8f_acde48001122row3_col0\" class=\"data row3 col0\" >3870.025531</td>\n",
       "                        <td id=\"T_e4e6e558_1927_11eb_aa8f_acde48001122row3_col1\" class=\"data row3 col1\" >3883.845471</td>\n",
       "                        <td id=\"T_e4e6e558_1927_11eb_aa8f_acde48001122row3_col2\" class=\"data row3 col2\" >5575.853583</td>\n",
       "                        <td id=\"T_e4e6e558_1927_11eb_aa8f_acde48001122row3_col3\" class=\"data row3 col3\" >1433.679693</td>\n",
       "            </tr>\n",
       "            <tr>\n",
       "                        <th id=\"T_e4e6e558_1927_11eb_aa8f_acde48001122level0_row4\" class=\"row_heading level0 row4\" >Score Classifier</th>\n",
       "                        <td id=\"T_e4e6e558_1927_11eb_aa8f_acde48001122row4_col0\" class=\"data row4 col0\" >0.830565</td>\n",
       "                        <td id=\"T_e4e6e558_1927_11eb_aa8f_acde48001122row4_col1\" class=\"data row4 col1\" >0.841639</td>\n",
       "                        <td id=\"T_e4e6e558_1927_11eb_aa8f_acde48001122row4_col2\" class=\"data row4 col2\" >0.996678</td>\n",
       "                        <td id=\"T_e4e6e558_1927_11eb_aa8f_acde48001122row4_col3\" class=\"data row4 col3\" >0.943522</td>\n",
       "            </tr>\n",
       "    </tbody></table>"
      ],
      "text/plain": [
       "<pandas.io.formats.style.Styler at 0x7fc2b8f13610>"
      ]
     },
     "execution_count": 38,
     "metadata": {},
     "output_type": "execute_result"
    }
   ],
   "source": [
    "train_df = training_models(x=x_train, y=y_train, models=models_list, col_name=models_name)\n",
    "test_df = training_models(x=x_test, y=y_test, models=models_list, col_name=models_name)\n",
    "highlight_bests_metrics(train_df)"
   ]
  },
  {
   "cell_type": "code",
   "execution_count": 39,
   "metadata": {},
   "outputs": [
    {
     "data": {
      "text/html": [
       "<style  type=\"text/css\" >\n",
       "#T_e4eb7686_1927_11eb_aa8f_acde48001122row0_col1,#T_e4eb7686_1927_11eb_aa8f_acde48001122row1_col1,#T_e4eb7686_1927_11eb_aa8f_acde48001122row2_col0,#T_e4eb7686_1927_11eb_aa8f_acde48001122row3_col1,#T_e4eb7686_1927_11eb_aa8f_acde48001122row4_col1{\n",
       "            background-color:  darkorange;\n",
       "        }</style><table id=\"T_e4eb7686_1927_11eb_aa8f_acde48001122\" ><thead>    <tr>        <th class=\"blank level0\" ></th>        <th class=\"col_heading level0 col0\" >Train</th>        <th class=\"col_heading level0 col1\" >Test</th>    </tr>    <tr>        <th class=\"index_name level0\" >RF regressor</th>        <th class=\"blank\" ></th>        <th class=\"blank\" ></th>    </tr></thead><tbody>\n",
       "                <tr>\n",
       "                        <th id=\"T_e4eb7686_1927_11eb_aa8f_acde48001122level0_row0\" class=\"row_heading level0 row0\" >MAE</th>\n",
       "                        <td id=\"T_e4eb7686_1927_11eb_aa8f_acde48001122row0_col0\" class=\"data row0 col0\" >667.199768</td>\n",
       "                        <td id=\"T_e4eb7686_1927_11eb_aa8f_acde48001122row0_col1\" class=\"data row0 col1\" >503.315792</td>\n",
       "            </tr>\n",
       "            <tr>\n",
       "                        <th id=\"T_e4eb7686_1927_11eb_aa8f_acde48001122level0_row1\" class=\"row_heading level0 row1\" >MSE</th>\n",
       "                        <td id=\"T_e4eb7686_1927_11eb_aa8f_acde48001122row1_col0\" class=\"data row1 col0\" >2055437.461806</td>\n",
       "                        <td id=\"T_e4eb7686_1927_11eb_aa8f_acde48001122row1_col1\" class=\"data row1 col1\" >1364688.075063</td>\n",
       "            </tr>\n",
       "            <tr>\n",
       "                        <th id=\"T_e4eb7686_1927_11eb_aa8f_acde48001122level0_row2\" class=\"row_heading level0 row2\" >R2</th>\n",
       "                        <td id=\"T_e4eb7686_1927_11eb_aa8f_acde48001122row2_col0\" class=\"data row2 col0\" >0.924099</td>\n",
       "                        <td id=\"T_e4eb7686_1927_11eb_aa8f_acde48001122row2_col1\" class=\"data row2 col1\" >0.919077</td>\n",
       "            </tr>\n",
       "            <tr>\n",
       "                        <th id=\"T_e4eb7686_1927_11eb_aa8f_acde48001122level0_row3\" class=\"row_heading level0 row3\" >RMSE</th>\n",
       "                        <td id=\"T_e4eb7686_1927_11eb_aa8f_acde48001122row3_col0\" class=\"data row3 col0\" >1433.679693</td>\n",
       "                        <td id=\"T_e4eb7686_1927_11eb_aa8f_acde48001122row3_col1\" class=\"data row3 col1\" >1168.198645</td>\n",
       "            </tr>\n",
       "            <tr>\n",
       "                        <th id=\"T_e4eb7686_1927_11eb_aa8f_acde48001122level0_row4\" class=\"row_heading level0 row4\" >Score Classifier</th>\n",
       "                        <td id=\"T_e4eb7686_1927_11eb_aa8f_acde48001122row4_col0\" class=\"data row4 col0\" >0.943522</td>\n",
       "                        <td id=\"T_e4eb7686_1927_11eb_aa8f_acde48001122row4_col1\" class=\"data row4 col1\" >0.958763</td>\n",
       "            </tr>\n",
       "    </tbody></table>"
      ],
      "text/plain": [
       "<pandas.io.formats.style.Styler at 0x7fc2b7ae4890>"
      ]
     },
     "execution_count": 39,
     "metadata": {},
     "output_type": "execute_result"
    }
   ],
   "source": [
    "train_test_df(df_1=train_df, df_2=test_df, column='RF regressor')"
   ]
  },
  {
   "cell_type": "markdown",
   "metadata": {},
   "source": [
    "- #### Columns: Surface Scans\n",
    "- #### Type: Lettuce\n",
    "- #### Target: Brix"
   ]
  },
  {
   "cell_type": "code",
   "execution_count": 40,
   "metadata": {},
   "outputs": [],
   "source": [
    "x, y = extract_x_y(df=df_ohe.filter(regex=\"Brix|Polyphenols|Antioxidants|Surface|lettuce\", axis=1), target=target_variables, col_index=0)\n",
    "x_train, x_test, y_train, y_test = train_test_split(x, y, test_size=0.30, random_state=42)"
   ]
  },
  {
   "cell_type": "code",
   "execution_count": 41,
   "metadata": {},
   "outputs": [
    {
     "name": "stdout",
     "output_type": "stream",
     "text": [
      "x_train (903, 11)\n",
      "x_test (388, 11)\n",
      "y_train (903,)\n",
      "y_test (388,)\n"
     ]
    }
   ],
   "source": [
    "print(\"x_train\", x_train.shape)\n",
    "print(\"x_test\", x_test.shape)\n",
    "print(\"y_train\", y_train.shape)\n",
    "print(\"y_test\", y_test.shape)"
   ]
  },
  {
   "cell_type": "code",
   "execution_count": 42,
   "metadata": {},
   "outputs": [
    {
     "data": {
      "text/html": [
       "<style  type=\"text/css\" >\n",
       "#T_ea418030_1927_11eb_aa8f_acde48001122row0_col2,#T_ea418030_1927_11eb_aa8f_acde48001122row1_col2,#T_ea418030_1927_11eb_aa8f_acde48001122row2_col2,#T_ea418030_1927_11eb_aa8f_acde48001122row3_col2,#T_ea418030_1927_11eb_aa8f_acde48001122row4_col2{\n",
       "            background-color:  darkorange;\n",
       "        }</style><table id=\"T_ea418030_1927_11eb_aa8f_acde48001122\" ><thead>    <tr>        <th class=\"blank level0\" ></th>        <th class=\"col_heading level0 col0\" >Linear regression</th>        <th class=\"col_heading level0 col1\" >Partial least squares</th>        <th class=\"col_heading level0 col2\" >SVR RBF</th>        <th class=\"col_heading level0 col3\" >RF regressor</th>    </tr></thead><tbody>\n",
       "                <tr>\n",
       "                        <th id=\"T_ea418030_1927_11eb_aa8f_acde48001122level0_row0\" class=\"row_heading level0 row0\" >MAE</th>\n",
       "                        <td id=\"T_ea418030_1927_11eb_aa8f_acde48001122row0_col0\" class=\"data row0 col0\" >2.111353</td>\n",
       "                        <td id=\"T_ea418030_1927_11eb_aa8f_acde48001122row0_col1\" class=\"data row0 col1\" >2.130917</td>\n",
       "                        <td id=\"T_ea418030_1927_11eb_aa8f_acde48001122row0_col2\" class=\"data row0 col2\" >0.183373</td>\n",
       "                        <td id=\"T_ea418030_1927_11eb_aa8f_acde48001122row0_col3\" class=\"data row0 col3\" >0.601184</td>\n",
       "            </tr>\n",
       "            <tr>\n",
       "                        <th id=\"T_ea418030_1927_11eb_aa8f_acde48001122level0_row1\" class=\"row_heading level0 row1\" >MSE</th>\n",
       "                        <td id=\"T_ea418030_1927_11eb_aa8f_acde48001122row1_col0\" class=\"data row1 col0\" >8.892455</td>\n",
       "                        <td id=\"T_ea418030_1927_11eb_aa8f_acde48001122row1_col1\" class=\"data row1 col1\" >9.374936</td>\n",
       "                        <td id=\"T_ea418030_1927_11eb_aa8f_acde48001122row1_col2\" class=\"data row1 col2\" >0.330943</td>\n",
       "                        <td id=\"T_ea418030_1927_11eb_aa8f_acde48001122row1_col3\" class=\"data row1 col3\" >0.776296</td>\n",
       "            </tr>\n",
       "            <tr>\n",
       "                        <th id=\"T_ea418030_1927_11eb_aa8f_acde48001122level0_row2\" class=\"row_heading level0 row2\" >R2</th>\n",
       "                        <td id=\"T_ea418030_1927_11eb_aa8f_acde48001122row2_col0\" class=\"data row2 col0\" >0.362111</td>\n",
       "                        <td id=\"T_ea418030_1927_11eb_aa8f_acde48001122row2_col1\" class=\"data row2 col1\" >0.327500</td>\n",
       "                        <td id=\"T_ea418030_1927_11eb_aa8f_acde48001122row2_col2\" class=\"data row2 col2\" >0.976260</td>\n",
       "                        <td id=\"T_ea418030_1927_11eb_aa8f_acde48001122row2_col3\" class=\"data row2 col3\" >0.944313</td>\n",
       "            </tr>\n",
       "            <tr>\n",
       "                        <th id=\"T_ea418030_1927_11eb_aa8f_acde48001122level0_row3\" class=\"row_heading level0 row3\" >RMSE</th>\n",
       "                        <td id=\"T_ea418030_1927_11eb_aa8f_acde48001122row3_col0\" class=\"data row3 col0\" >2.982022</td>\n",
       "                        <td id=\"T_ea418030_1927_11eb_aa8f_acde48001122row3_col1\" class=\"data row3 col1\" >3.061852</td>\n",
       "                        <td id=\"T_ea418030_1927_11eb_aa8f_acde48001122row3_col2\" class=\"data row3 col2\" >0.575276</td>\n",
       "                        <td id=\"T_ea418030_1927_11eb_aa8f_acde48001122row3_col3\" class=\"data row3 col3\" >0.881077</td>\n",
       "            </tr>\n",
       "            <tr>\n",
       "                        <th id=\"T_ea418030_1927_11eb_aa8f_acde48001122level0_row4\" class=\"row_heading level0 row4\" >Score Classifier</th>\n",
       "                        <td id=\"T_ea418030_1927_11eb_aa8f_acde48001122row4_col0\" class=\"data row4 col0\" >0.710963</td>\n",
       "                        <td id=\"T_ea418030_1927_11eb_aa8f_acde48001122row4_col1\" class=\"data row4 col1\" >0.718715</td>\n",
       "                        <td id=\"T_ea418030_1927_11eb_aa8f_acde48001122row4_col2\" class=\"data row4 col2\" >0.990033</td>\n",
       "                        <td id=\"T_ea418030_1927_11eb_aa8f_acde48001122row4_col3\" class=\"data row4 col3\" >0.928018</td>\n",
       "            </tr>\n",
       "    </tbody></table>"
      ],
      "text/plain": [
       "<pandas.io.formats.style.Styler at 0x7fc2b7ad6d50>"
      ]
     },
     "execution_count": 42,
     "metadata": {},
     "output_type": "execute_result"
    }
   ],
   "source": [
    "train_df = training_models(x=x_train, y=y_train, models=models_list, col_name=models_name)\n",
    "test_df = training_models(x=x_test, y=y_test, models=models_list, col_name=models_name)\n",
    "highlight_bests_metrics(train_df)"
   ]
  },
  {
   "cell_type": "code",
   "execution_count": 43,
   "metadata": {},
   "outputs": [
    {
     "data": {
      "text/html": [
       "<style  type=\"text/css\" >\n",
       "#T_ea45dc52_1927_11eb_aa8f_acde48001122row0_col1,#T_ea45dc52_1927_11eb_aa8f_acde48001122row1_col1,#T_ea45dc52_1927_11eb_aa8f_acde48001122row2_col1,#T_ea45dc52_1927_11eb_aa8f_acde48001122row3_col1,#T_ea45dc52_1927_11eb_aa8f_acde48001122row4_col1{\n",
       "            background-color:  darkorange;\n",
       "        }</style><table id=\"T_ea45dc52_1927_11eb_aa8f_acde48001122\" ><thead>    <tr>        <th class=\"blank level0\" ></th>        <th class=\"col_heading level0 col0\" >Train</th>        <th class=\"col_heading level0 col1\" >Test</th>    </tr>    <tr>        <th class=\"index_name level0\" >SVR RBF</th>        <th class=\"blank\" ></th>        <th class=\"blank\" ></th>    </tr></thead><tbody>\n",
       "                <tr>\n",
       "                        <th id=\"T_ea45dc52_1927_11eb_aa8f_acde48001122level0_row0\" class=\"row_heading level0 row0\" >MAE</th>\n",
       "                        <td id=\"T_ea45dc52_1927_11eb_aa8f_acde48001122row0_col0\" class=\"data row0 col0\" >0.183373</td>\n",
       "                        <td id=\"T_ea45dc52_1927_11eb_aa8f_acde48001122row0_col1\" class=\"data row0 col1\" >0.147696</td>\n",
       "            </tr>\n",
       "            <tr>\n",
       "                        <th id=\"T_ea45dc52_1927_11eb_aa8f_acde48001122level0_row1\" class=\"row_heading level0 row1\" >MSE</th>\n",
       "                        <td id=\"T_ea45dc52_1927_11eb_aa8f_acde48001122row1_col0\" class=\"data row1 col0\" >0.330943</td>\n",
       "                        <td id=\"T_ea45dc52_1927_11eb_aa8f_acde48001122row1_col1\" class=\"data row1 col1\" >0.152288</td>\n",
       "            </tr>\n",
       "            <tr>\n",
       "                        <th id=\"T_ea45dc52_1927_11eb_aa8f_acde48001122level0_row2\" class=\"row_heading level0 row2\" >R2</th>\n",
       "                        <td id=\"T_ea45dc52_1927_11eb_aa8f_acde48001122row2_col0\" class=\"data row2 col0\" >0.976260</td>\n",
       "                        <td id=\"T_ea45dc52_1927_11eb_aa8f_acde48001122row2_col1\" class=\"data row2 col1\" >0.986110</td>\n",
       "            </tr>\n",
       "            <tr>\n",
       "                        <th id=\"T_ea45dc52_1927_11eb_aa8f_acde48001122level0_row3\" class=\"row_heading level0 row3\" >RMSE</th>\n",
       "                        <td id=\"T_ea45dc52_1927_11eb_aa8f_acde48001122row3_col0\" class=\"data row3 col0\" >0.575276</td>\n",
       "                        <td id=\"T_ea45dc52_1927_11eb_aa8f_acde48001122row3_col1\" class=\"data row3 col1\" >0.390241</td>\n",
       "            </tr>\n",
       "            <tr>\n",
       "                        <th id=\"T_ea45dc52_1927_11eb_aa8f_acde48001122level0_row4\" class=\"row_heading level0 row4\" >Score Classifier</th>\n",
       "                        <td id=\"T_ea45dc52_1927_11eb_aa8f_acde48001122row4_col0\" class=\"data row4 col0\" >0.990033</td>\n",
       "                        <td id=\"T_ea45dc52_1927_11eb_aa8f_acde48001122row4_col1\" class=\"data row4 col1\" >0.994845</td>\n",
       "            </tr>\n",
       "    </tbody></table>"
      ],
      "text/plain": [
       "<pandas.io.formats.style.Styler at 0x7fc2ce65f7d0>"
      ]
     },
     "execution_count": 43,
     "metadata": {},
     "output_type": "execute_result"
    }
   ],
   "source": [
    "train_test_df(df_1=train_df, df_2=test_df, column='SVR RBF')"
   ]
  },
  {
   "cell_type": "markdown",
   "metadata": {},
   "source": [
    "- #### Target: Polyphenols"
   ]
  },
  {
   "cell_type": "code",
   "execution_count": 44,
   "metadata": {},
   "outputs": [],
   "source": [
    "x, y = extract_x_y(df=df_ohe.filter(regex=\"Brix|Polyphenols|Antioxidants|Surface|lettuce\", axis=1), target=target_variables, col_index=1)\n",
    "x_train, x_test, y_train, y_test = train_test_split(x, y, test_size=0.30, random_state=42)"
   ]
  },
  {
   "cell_type": "code",
   "execution_count": 45,
   "metadata": {},
   "outputs": [
    {
     "data": {
      "text/html": [
       "<style  type=\"text/css\" >\n",
       "#T_ef34cdea_1927_11eb_aa8f_acde48001122row0_col3,#T_ef34cdea_1927_11eb_aa8f_acde48001122row1_col3,#T_ef34cdea_1927_11eb_aa8f_acde48001122row2_col3,#T_ef34cdea_1927_11eb_aa8f_acde48001122row3_col3,#T_ef34cdea_1927_11eb_aa8f_acde48001122row4_col2{\n",
       "            background-color:  darkorange;\n",
       "        }</style><table id=\"T_ef34cdea_1927_11eb_aa8f_acde48001122\" ><thead>    <tr>        <th class=\"blank level0\" ></th>        <th class=\"col_heading level0 col0\" >Linear regression</th>        <th class=\"col_heading level0 col1\" >Partial least squares</th>        <th class=\"col_heading level0 col2\" >SVR RBF</th>        <th class=\"col_heading level0 col3\" >RF regressor</th>    </tr></thead><tbody>\n",
       "                <tr>\n",
       "                        <th id=\"T_ef34cdea_1927_11eb_aa8f_acde48001122level0_row0\" class=\"row_heading level0 row0\" >MAE</th>\n",
       "                        <td id=\"T_ef34cdea_1927_11eb_aa8f_acde48001122row0_col0\" class=\"data row0 col0\" >76.201293</td>\n",
       "                        <td id=\"T_ef34cdea_1927_11eb_aa8f_acde48001122row0_col1\" class=\"data row0 col1\" >74.480157</td>\n",
       "                        <td id=\"T_ef34cdea_1927_11eb_aa8f_acde48001122row0_col2\" class=\"data row0 col2\" >87.863511</td>\n",
       "                        <td id=\"T_ef34cdea_1927_11eb_aa8f_acde48001122row0_col3\" class=\"data row0 col3\" >21.621480</td>\n",
       "            </tr>\n",
       "            <tr>\n",
       "                        <th id=\"T_ef34cdea_1927_11eb_aa8f_acde48001122level0_row1\" class=\"row_heading level0 row1\" >MSE</th>\n",
       "                        <td id=\"T_ef34cdea_1927_11eb_aa8f_acde48001122row1_col0\" class=\"data row1 col0\" >14638.671447</td>\n",
       "                        <td id=\"T_ef34cdea_1927_11eb_aa8f_acde48001122row1_col1\" class=\"data row1 col1\" >15546.175379</td>\n",
       "                        <td id=\"T_ef34cdea_1927_11eb_aa8f_acde48001122row1_col2\" class=\"data row1 col2\" >32335.495874</td>\n",
       "                        <td id=\"T_ef34cdea_1927_11eb_aa8f_acde48001122row1_col3\" class=\"data row1 col3\" >1835.350114</td>\n",
       "            </tr>\n",
       "            <tr>\n",
       "                        <th id=\"T_ef34cdea_1927_11eb_aa8f_acde48001122level0_row2\" class=\"row_heading level0 row2\" >R2</th>\n",
       "                        <td id=\"T_ef34cdea_1927_11eb_aa8f_acde48001122row2_col0\" class=\"data row2 col0\" >0.490842</td>\n",
       "                        <td id=\"T_ef34cdea_1927_11eb_aa8f_acde48001122row2_col1\" class=\"data row2 col1\" >0.459277</td>\n",
       "                        <td id=\"T_ef34cdea_1927_11eb_aa8f_acde48001122row2_col2\" class=\"data row2 col2\" >-0.124684</td>\n",
       "                        <td id=\"T_ef34cdea_1927_11eb_aa8f_acde48001122row2_col3\" class=\"data row2 col3\" >0.936163</td>\n",
       "            </tr>\n",
       "            <tr>\n",
       "                        <th id=\"T_ef34cdea_1927_11eb_aa8f_acde48001122level0_row3\" class=\"row_heading level0 row3\" >RMSE</th>\n",
       "                        <td id=\"T_ef34cdea_1927_11eb_aa8f_acde48001122row3_col0\" class=\"data row3 col0\" >120.990377</td>\n",
       "                        <td id=\"T_ef34cdea_1927_11eb_aa8f_acde48001122row3_col1\" class=\"data row3 col1\" >124.684303</td>\n",
       "                        <td id=\"T_ef34cdea_1927_11eb_aa8f_acde48001122row3_col2\" class=\"data row3 col2\" >179.820733</td>\n",
       "                        <td id=\"T_ef34cdea_1927_11eb_aa8f_acde48001122row3_col3\" class=\"data row3 col3\" >42.840986</td>\n",
       "            </tr>\n",
       "            <tr>\n",
       "                        <th id=\"T_ef34cdea_1927_11eb_aa8f_acde48001122level0_row4\" class=\"row_heading level0 row4\" >Score Classifier</th>\n",
       "                        <td id=\"T_ef34cdea_1927_11eb_aa8f_acde48001122row4_col0\" class=\"data row4 col0\" >0.665559</td>\n",
       "                        <td id=\"T_ef34cdea_1927_11eb_aa8f_acde48001122row4_col1\" class=\"data row4 col1\" >0.719823</td>\n",
       "                        <td id=\"T_ef34cdea_1927_11eb_aa8f_acde48001122row4_col2\" class=\"data row4 col2\" >0.996678</td>\n",
       "                        <td id=\"T_ef34cdea_1927_11eb_aa8f_acde48001122row4_col3\" class=\"data row4 col3\" >0.924695</td>\n",
       "            </tr>\n",
       "    </tbody></table>"
      ],
      "text/plain": [
       "<pandas.io.formats.style.Styler at 0x7fc2b9217bd0>"
      ]
     },
     "execution_count": 45,
     "metadata": {},
     "output_type": "execute_result"
    }
   ],
   "source": [
    "train_df = training_models(x=x_train, y=y_train, models=models_list, col_name=models_name)\n",
    "test_df = training_models(x=x_test, y=y_test, models=models_list, col_name=models_name)\n",
    "highlight_bests_metrics(train_df)"
   ]
  },
  {
   "cell_type": "code",
   "execution_count": 46,
   "metadata": {},
   "outputs": [
    {
     "data": {
      "text/html": [
       "<style  type=\"text/css\" >\n",
       "#T_ef423340_1927_11eb_aa8f_acde48001122row0_col0,#T_ef423340_1927_11eb_aa8f_acde48001122row1_col0,#T_ef423340_1927_11eb_aa8f_acde48001122row2_col0,#T_ef423340_1927_11eb_aa8f_acde48001122row3_col0,#T_ef423340_1927_11eb_aa8f_acde48001122row4_col0{\n",
       "            background-color:  darkorange;\n",
       "        }</style><table id=\"T_ef423340_1927_11eb_aa8f_acde48001122\" ><thead>    <tr>        <th class=\"blank level0\" ></th>        <th class=\"col_heading level0 col0\" >Train</th>        <th class=\"col_heading level0 col1\" >Test</th>    </tr>    <tr>        <th class=\"index_name level0\" >RF regressor</th>        <th class=\"blank\" ></th>        <th class=\"blank\" ></th>    </tr></thead><tbody>\n",
       "                <tr>\n",
       "                        <th id=\"T_ef423340_1927_11eb_aa8f_acde48001122level0_row0\" class=\"row_heading level0 row0\" >MAE</th>\n",
       "                        <td id=\"T_ef423340_1927_11eb_aa8f_acde48001122row0_col0\" class=\"data row0 col0\" >21.621480</td>\n",
       "                        <td id=\"T_ef423340_1927_11eb_aa8f_acde48001122row0_col1\" class=\"data row0 col1\" >24.907061</td>\n",
       "            </tr>\n",
       "            <tr>\n",
       "                        <th id=\"T_ef423340_1927_11eb_aa8f_acde48001122level0_row1\" class=\"row_heading level0 row1\" >MSE</th>\n",
       "                        <td id=\"T_ef423340_1927_11eb_aa8f_acde48001122row1_col0\" class=\"data row1 col0\" >1835.350114</td>\n",
       "                        <td id=\"T_ef423340_1927_11eb_aa8f_acde48001122row1_col1\" class=\"data row1 col1\" >2411.647171</td>\n",
       "            </tr>\n",
       "            <tr>\n",
       "                        <th id=\"T_ef423340_1927_11eb_aa8f_acde48001122level0_row2\" class=\"row_heading level0 row2\" >R2</th>\n",
       "                        <td id=\"T_ef423340_1927_11eb_aa8f_acde48001122row2_col0\" class=\"data row2 col0\" >0.936163</td>\n",
       "                        <td id=\"T_ef423340_1927_11eb_aa8f_acde48001122row2_col1\" class=\"data row2 col1\" >0.907867</td>\n",
       "            </tr>\n",
       "            <tr>\n",
       "                        <th id=\"T_ef423340_1927_11eb_aa8f_acde48001122level0_row3\" class=\"row_heading level0 row3\" >RMSE</th>\n",
       "                        <td id=\"T_ef423340_1927_11eb_aa8f_acde48001122row3_col0\" class=\"data row3 col0\" >42.840986</td>\n",
       "                        <td id=\"T_ef423340_1927_11eb_aa8f_acde48001122row3_col1\" class=\"data row3 col1\" >49.108524</td>\n",
       "            </tr>\n",
       "            <tr>\n",
       "                        <th id=\"T_ef423340_1927_11eb_aa8f_acde48001122level0_row4\" class=\"row_heading level0 row4\" >Score Classifier</th>\n",
       "                        <td id=\"T_ef423340_1927_11eb_aa8f_acde48001122row4_col0\" class=\"data row4 col0\" >0.924695</td>\n",
       "                        <td id=\"T_ef423340_1927_11eb_aa8f_acde48001122row4_col1\" class=\"data row4 col1\" >0.871134</td>\n",
       "            </tr>\n",
       "    </tbody></table>"
      ],
      "text/plain": [
       "<pandas.io.formats.style.Styler at 0x7fc2b9888c50>"
      ]
     },
     "execution_count": 46,
     "metadata": {},
     "output_type": "execute_result"
    }
   ],
   "source": [
    "train_test_df(df_1=train_df, df_2=test_df, column='RF regressor')"
   ]
  },
  {
   "cell_type": "markdown",
   "metadata": {},
   "source": [
    "- #### Target: Antioxidants"
   ]
  },
  {
   "cell_type": "code",
   "execution_count": 47,
   "metadata": {},
   "outputs": [],
   "source": [
    "x, y = extract_x_y(df=df_ohe.filter(regex=\"Brix|Polyphenols|Antioxidants|Surface|lettuce\", axis=1), target=target_variables, col_index=2)\n",
    "x_train, x_test, y_train, y_test = train_test_split(x, y, test_size=0.30, random_state=42)"
   ]
  },
  {
   "cell_type": "code",
   "execution_count": 48,
   "metadata": {},
   "outputs": [
    {
     "data": {
      "text/html": [
       "<style  type=\"text/css\" >\n",
       "#T_f465f0fa_1927_11eb_aa8f_acde48001122row0_col3,#T_f465f0fa_1927_11eb_aa8f_acde48001122row1_col3,#T_f465f0fa_1927_11eb_aa8f_acde48001122row2_col3,#T_f465f0fa_1927_11eb_aa8f_acde48001122row3_col3,#T_f465f0fa_1927_11eb_aa8f_acde48001122row4_col2{\n",
       "            background-color:  darkorange;\n",
       "        }</style><table id=\"T_f465f0fa_1927_11eb_aa8f_acde48001122\" ><thead>    <tr>        <th class=\"blank level0\" ></th>        <th class=\"col_heading level0 col0\" >Linear regression</th>        <th class=\"col_heading level0 col1\" >Partial least squares</th>        <th class=\"col_heading level0 col2\" >SVR RBF</th>        <th class=\"col_heading level0 col3\" >RF regressor</th>    </tr></thead><tbody>\n",
       "                <tr>\n",
       "                        <th id=\"T_f465f0fa_1927_11eb_aa8f_acde48001122level0_row0\" class=\"row_heading level0 row0\" >MAE</th>\n",
       "                        <td id=\"T_f465f0fa_1927_11eb_aa8f_acde48001122row0_col0\" class=\"data row0 col0\" >2649.988475</td>\n",
       "                        <td id=\"T_f465f0fa_1927_11eb_aa8f_acde48001122row0_col1\" class=\"data row0 col1\" >2637.844887</td>\n",
       "                        <td id=\"T_f465f0fa_1927_11eb_aa8f_acde48001122row0_col2\" class=\"data row0 col2\" >2445.306573</td>\n",
       "                        <td id=\"T_f465f0fa_1927_11eb_aa8f_acde48001122row0_col3\" class=\"data row0 col3\" >794.689964</td>\n",
       "            </tr>\n",
       "            <tr>\n",
       "                        <th id=\"T_f465f0fa_1927_11eb_aa8f_acde48001122level0_row1\" class=\"row_heading level0 row1\" >MSE</th>\n",
       "                        <td id=\"T_f465f0fa_1927_11eb_aa8f_acde48001122row1_col0\" class=\"data row1 col0\" >19956636.719696</td>\n",
       "                        <td id=\"T_f465f0fa_1927_11eb_aa8f_acde48001122row1_col1\" class=\"data row1 col1\" >20234429.047796</td>\n",
       "                        <td id=\"T_f465f0fa_1927_11eb_aa8f_acde48001122row1_col2\" class=\"data row1 col2\" >31090465.416353</td>\n",
       "                        <td id=\"T_f465f0fa_1927_11eb_aa8f_acde48001122row1_col3\" class=\"data row1 col3\" >2496319.955839</td>\n",
       "            </tr>\n",
       "            <tr>\n",
       "                        <th id=\"T_f465f0fa_1927_11eb_aa8f_acde48001122level0_row2\" class=\"row_heading level0 row2\" >R2</th>\n",
       "                        <td id=\"T_f465f0fa_1927_11eb_aa8f_acde48001122row2_col0\" class=\"data row2 col0\" >0.263059</td>\n",
       "                        <td id=\"T_f465f0fa_1927_11eb_aa8f_acde48001122row2_col1\" class=\"data row2 col1\" >0.252801</td>\n",
       "                        <td id=\"T_f465f0fa_1927_11eb_aa8f_acde48001122row2_col2\" class=\"data row2 col2\" >-0.148082</td>\n",
       "                        <td id=\"T_f465f0fa_1927_11eb_aa8f_acde48001122row2_col3\" class=\"data row2 col3\" >0.907818</td>\n",
       "            </tr>\n",
       "            <tr>\n",
       "                        <th id=\"T_f465f0fa_1927_11eb_aa8f_acde48001122level0_row3\" class=\"row_heading level0 row3\" >RMSE</th>\n",
       "                        <td id=\"T_f465f0fa_1927_11eb_aa8f_acde48001122row3_col0\" class=\"data row3 col0\" >4467.285162</td>\n",
       "                        <td id=\"T_f465f0fa_1927_11eb_aa8f_acde48001122row3_col1\" class=\"data row3 col1\" >4498.269561</td>\n",
       "                        <td id=\"T_f465f0fa_1927_11eb_aa8f_acde48001122row3_col2\" class=\"data row3 col2\" >5575.882479</td>\n",
       "                        <td id=\"T_f465f0fa_1927_11eb_aa8f_acde48001122row3_col3\" class=\"data row3 col3\" >1579.974669</td>\n",
       "            </tr>\n",
       "            <tr>\n",
       "                        <th id=\"T_f465f0fa_1927_11eb_aa8f_acde48001122level0_row4\" class=\"row_heading level0 row4\" >Score Classifier</th>\n",
       "                        <td id=\"T_f465f0fa_1927_11eb_aa8f_acde48001122row4_col0\" class=\"data row4 col0\" >0.717608</td>\n",
       "                        <td id=\"T_f465f0fa_1927_11eb_aa8f_acde48001122row4_col1\" class=\"data row4 col1\" >0.730897</td>\n",
       "                        <td id=\"T_f465f0fa_1927_11eb_aa8f_acde48001122row4_col2\" class=\"data row4 col2\" >0.996678</td>\n",
       "                        <td id=\"T_f465f0fa_1927_11eb_aa8f_acde48001122row4_col3\" class=\"data row4 col3\" >0.887043</td>\n",
       "            </tr>\n",
       "    </tbody></table>"
      ],
      "text/plain": [
       "<pandas.io.formats.style.Styler at 0x7fc2b9217c90>"
      ]
     },
     "execution_count": 48,
     "metadata": {},
     "output_type": "execute_result"
    }
   ],
   "source": [
    "train_df = training_models(x=x_train, y=y_train, models=models_list, col_name=models_name)\n",
    "test_df = training_models(x=x_test, y=y_test, models=models_list, col_name=models_name)\n",
    "highlight_bests_metrics(train_df)"
   ]
  },
  {
   "cell_type": "code",
   "execution_count": 49,
   "metadata": {},
   "outputs": [
    {
     "data": {
      "text/html": [
       "<style  type=\"text/css\" >\n",
       "#T_f46a9268_1927_11eb_aa8f_acde48001122row0_col1,#T_f46a9268_1927_11eb_aa8f_acde48001122row1_col1,#T_f46a9268_1927_11eb_aa8f_acde48001122row2_col0,#T_f46a9268_1927_11eb_aa8f_acde48001122row3_col1,#T_f46a9268_1927_11eb_aa8f_acde48001122row4_col0{\n",
       "            background-color:  darkorange;\n",
       "        }</style><table id=\"T_f46a9268_1927_11eb_aa8f_acde48001122\" ><thead>    <tr>        <th class=\"blank level0\" ></th>        <th class=\"col_heading level0 col0\" >Train</th>        <th class=\"col_heading level0 col1\" >Test</th>    </tr>    <tr>        <th class=\"index_name level0\" >RF regressor</th>        <th class=\"blank\" ></th>        <th class=\"blank\" ></th>    </tr></thead><tbody>\n",
       "                <tr>\n",
       "                        <th id=\"T_f46a9268_1927_11eb_aa8f_acde48001122level0_row0\" class=\"row_heading level0 row0\" >MAE</th>\n",
       "                        <td id=\"T_f46a9268_1927_11eb_aa8f_acde48001122row0_col0\" class=\"data row0 col0\" >794.689964</td>\n",
       "                        <td id=\"T_f46a9268_1927_11eb_aa8f_acde48001122row0_col1\" class=\"data row0 col1\" >702.846698</td>\n",
       "            </tr>\n",
       "            <tr>\n",
       "                        <th id=\"T_f46a9268_1927_11eb_aa8f_acde48001122level0_row1\" class=\"row_heading level0 row1\" >MSE</th>\n",
       "                        <td id=\"T_f46a9268_1927_11eb_aa8f_acde48001122row1_col0\" class=\"data row1 col0\" >2496319.955839</td>\n",
       "                        <td id=\"T_f46a9268_1927_11eb_aa8f_acde48001122row1_col1\" class=\"data row1 col1\" >1829674.725595</td>\n",
       "            </tr>\n",
       "            <tr>\n",
       "                        <th id=\"T_f46a9268_1927_11eb_aa8f_acde48001122level0_row2\" class=\"row_heading level0 row2\" >R2</th>\n",
       "                        <td id=\"T_f46a9268_1927_11eb_aa8f_acde48001122row2_col0\" class=\"data row2 col0\" >0.907818</td>\n",
       "                        <td id=\"T_f46a9268_1927_11eb_aa8f_acde48001122row2_col1\" class=\"data row2 col1\" >0.891504</td>\n",
       "            </tr>\n",
       "            <tr>\n",
       "                        <th id=\"T_f46a9268_1927_11eb_aa8f_acde48001122level0_row3\" class=\"row_heading level0 row3\" >RMSE</th>\n",
       "                        <td id=\"T_f46a9268_1927_11eb_aa8f_acde48001122row3_col0\" class=\"data row3 col0\" >1579.974669</td>\n",
       "                        <td id=\"T_f46a9268_1927_11eb_aa8f_acde48001122row3_col1\" class=\"data row3 col1\" >1352.654696</td>\n",
       "            </tr>\n",
       "            <tr>\n",
       "                        <th id=\"T_f46a9268_1927_11eb_aa8f_acde48001122level0_row4\" class=\"row_heading level0 row4\" >Score Classifier</th>\n",
       "                        <td id=\"T_f46a9268_1927_11eb_aa8f_acde48001122row4_col0\" class=\"data row4 col0\" >0.887043</td>\n",
       "                        <td id=\"T_f46a9268_1927_11eb_aa8f_acde48001122row4_col1\" class=\"data row4 col1\" >0.824742</td>\n",
       "            </tr>\n",
       "    </tbody></table>"
      ],
      "text/plain": [
       "<pandas.io.formats.style.Styler at 0x7fc2b7b0a050>"
      ]
     },
     "execution_count": 49,
     "metadata": {},
     "output_type": "execute_result"
    }
   ],
   "source": [
    "train_test_df(df_1=train_df, df_2=test_df, column='RF regressor')"
   ]
  }
 ],
 "metadata": {
  "kernelspec": {
   "display_name": "Python 3",
   "language": "python",
   "name": "python3"
  },
  "language_info": {
   "codemirror_mode": {
    "name": "ipython",
    "version": 3
   },
   "file_extension": ".py",
   "mimetype": "text/x-python",
   "name": "python",
   "nbconvert_exporter": "python",
   "pygments_lexer": "ipython3",
   "version": "3.7.4"
  }
 },
 "nbformat": 4,
 "nbformat_minor": 4
}
